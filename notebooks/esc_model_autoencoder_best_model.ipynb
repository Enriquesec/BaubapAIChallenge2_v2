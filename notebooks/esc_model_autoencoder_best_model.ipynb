{
 "cells": [
  {
   "cell_type": "markdown",
   "metadata": {
    "id": "FOGDHJil2IUc"
   },
   "source": [
    "# Import Libraries & Create Pre-Processing Class"
   ]
  },
  {
   "cell_type": "code",
   "execution_count": 110,
   "metadata": {},
   "outputs": [],
   "source": [
    "import optuna\n",
    "from xgboost.sklearn import XGBClassifier\n",
    "from imblearn.pipeline import Pipeline\n",
    "from sklearn.model_selection import cross_val_score\n",
    "from sklearn.metrics import brier_score_loss, make_scorer\n",
    "from sklearn.model_selection import StratifiedKFold, cross_val_score, train_test_split"
   ]
  },
  {
   "cell_type": "code",
   "execution_count": 111,
   "metadata": {},
   "outputs": [],
   "source": [
    "import warnings\n",
    "warnings.filterwarnings(\"ignore\")"
   ]
  },
  {
   "cell_type": "code",
   "execution_count": 371,
   "metadata": {},
   "outputs": [],
   "source": [
    "from keras.layers import Input, Dense\n",
    "from keras.models import Model\n",
    "from keras.callbacks import EarlyStopping"
   ]
  },
  {
   "cell_type": "code",
   "execution_count": 112,
   "metadata": {
    "colab": {
     "base_uri": "https://localhost:8080/"
    },
    "id": "66594192-f00c-481d-8bf0-463935754427",
    "outputId": "12097fab-f054-48e3-a279-e34f1087852e"
   },
   "outputs": [
    {
     "name": "stdout",
     "output_type": "stream",
     "text": [
      "Requirement already satisfied: category_encoders in c:\\users\\mi16690\\anaconda3\\lib\\site-packages (2.6.3)\n",
      "Requirement already satisfied: patsy>=0.5.1 in c:\\users\\mi16690\\anaconda3\\lib\\site-packages (from category_encoders) (0.5.2)\n",
      "Requirement already satisfied: pandas>=1.0.5 in c:\\users\\mi16690\\anaconda3\\lib\\site-packages (from category_encoders) (1.4.4)\n",
      "Requirement already satisfied: statsmodels>=0.9.0 in c:\\users\\mi16690\\anaconda3\\lib\\site-packages (from category_encoders) (0.13.2)\n",
      "Requirement already satisfied: scikit-learn>=0.20.0 in c:\\users\\mi16690\\anaconda3\\lib\\site-packages (from category_encoders) (1.0.2)\n",
      "Requirement already satisfied: scipy>=1.0.0 in c:\\users\\mi16690\\anaconda3\\lib\\site-packages (from category_encoders) (1.9.1)\n",
      "Requirement already satisfied: numpy>=1.14.0 in c:\\users\\mi16690\\anaconda3\\lib\\site-packages (from category_encoders) (1.24.4)\n",
      "Requirement already satisfied: python-dateutil>=2.8.1 in c:\\users\\mi16690\\anaconda3\\lib\\site-packages (from pandas>=1.0.5->category_encoders) (2.8.2)\n",
      "Requirement already satisfied: pytz>=2020.1 in c:\\users\\mi16690\\anaconda3\\lib\\site-packages (from pandas>=1.0.5->category_encoders) (2022.1)\n",
      "Requirement already satisfied: six in c:\\users\\mi16690\\anaconda3\\lib\\site-packages (from patsy>=0.5.1->category_encoders) (1.16.0)\n",
      "Requirement already satisfied: joblib>=0.11 in c:\\users\\mi16690\\appdata\\roaming\\python\\python39\\site-packages (from scikit-learn>=0.20.0->category_encoders) (1.3.2)\n",
      "Requirement already satisfied: threadpoolctl>=2.0.0 in c:\\users\\mi16690\\anaconda3\\lib\\site-packages (from scikit-learn>=0.20.0->category_encoders) (2.2.0)\n",
      "Requirement already satisfied: packaging>=21.3 in c:\\users\\mi16690\\anaconda3\\lib\\site-packages (from statsmodels>=0.9.0->category_encoders) (21.3)\n",
      "Requirement already satisfied: pyparsing!=3.0.5,>=2.0.2 in c:\\users\\mi16690\\anaconda3\\lib\\site-packages (from packaging>=21.3->statsmodels>=0.9.0->category_encoders) (3.0.9)\n"
     ]
    }
   ],
   "source": [
    "!pip install category_encoders\n",
    "import pandas as pd\n",
    "import numpy as np\n",
    "from sklearn.decomposition import PCA\n",
    "import xgboost as xgb\n",
    "from sklearn.model_selection import train_test_split\n",
    "from sklearn.metrics import accuracy_score\n",
    "from scipy import stats as st\n",
    "import category_encoders as ce\n",
    "import seaborn as sns\n",
    "import matplotlib.pyplot as plt\n",
    "from sklearn.metrics import classification_report, brier_score_loss, confusion_matrix, accuracy_score\n",
    "#----------------------CategoricalTransformer----------------------\n",
    "\n",
    "class CategoricalTransformer():\n",
    "    def __init__(self, max_unique_values = 20):\n",
    "        self.max_unique_values = max_unique_values\n",
    "        self.__selected_features = None\n",
    "\n",
    "    def fit(self, X):\n",
    "        # Identify features with 20 or fewer unique values\n",
    "        self.__selected_features = X.columns[X.nunique() <= self.max_unique_values]\n",
    "        return self\n",
    "\n",
    "    def transform(self, X):\n",
    "        X_transformed = X.copy()\n",
    "        # Convert selected features to categorical\n",
    "        X_transformed[self.__selected_features] = X_transformed[self.__selected_features].astype('object')\n",
    "        return X_transformed\n",
    "    def fit_transform(self, X):\n",
    "        self.fit(X)\n",
    "        return self.transform(X)\n",
    "\n",
    "\n",
    "\n",
    "#----------------------MissingValuesFiller----------------------\n",
    "\n",
    "class MissingValuesFiller():\n",
    "    def __init__(self, numeric_strategy='mean', categorical_strategy='most_frequent'):\n",
    "        self.numeric_strategy = numeric_strategy\n",
    "        self.categorical_strategy = categorical_strategy\n",
    "        self.__numeric_cols = None\n",
    "        self.__categorical_cols = None\n",
    "        self.__mean_numeric_series = None\n",
    "        self.__mode_categorical_series = None\n",
    "\n",
    "    def fit(self, X):\n",
    "        # Separate numeric and categorical columns\n",
    "        self.__numeric_cols = X.select_dtypes(include='number').columns\n",
    "        self.__categorical_cols = X.select_dtypes(include='object').columns\n",
    "        self.__mean_numeric_series= X[self.__numeric_cols].agg(self.numeric_strategy)\n",
    "        self.__mode_categorical_series= X[self.__categorical_cols].mode().iloc[0] if self.categorical_strategy  == 'most_frequent' else self.categorical_strategy\n",
    "\n",
    "    def transform(self, X):\n",
    "        X_transformed = X.copy()\n",
    "         # Fill missing values in numeric columns\n",
    "        X_transformed[self.__numeric_cols] = X[self.__numeric_cols].fillna(self.__mean_numeric_series)\n",
    "\n",
    "        # Fill missing values in categorical columns\n",
    "        X_transformed[self.__categorical_cols] = X[self.__categorical_cols].fillna(self.__mode_categorical_series)\n",
    "\n",
    "        return X_transformed\n",
    "\n",
    "    def fit_transform(self, X):\n",
    "        self.fit(X)\n",
    "        return self.transform(X)\n",
    "\n",
    "\n",
    "\n",
    "#----------------------DropHighCorrelationFeatures----------------------\n",
    "\n",
    "\n",
    "class DropHighCorrelationFeatures():\n",
    "    def __init__(self, threshold = 0.85):\n",
    "        self.threshold = threshold\n",
    "        self.to_drop_cols = None\n",
    "\n",
    "    def fit(self, X):\n",
    "        # Calculate the correlation matrix\n",
    "        correlation_matrix = X.corr().abs()\n",
    "\n",
    "        # Create a mask to identify highly correlated features\n",
    "        upper_triangle_mask = correlation_matrix.where(np.triu(np.ones(correlation_matrix.shape), k=1).astype(bool))\n",
    "\n",
    "        # Identify features with correlation above the threshold\n",
    "        to_drop = [column for column in upper_triangle_mask.columns if any(upper_triangle_mask[column] > self.threshold)]\n",
    "\n",
    "        self.to_drop_cols = to_drop\n",
    "\n",
    "\n",
    "\n",
    "    def transform(self, X):\n",
    "        X_transformed = X.copy()\n",
    "\n",
    "        # Drop highly correlated features\n",
    "        X_transformed = X_transformed.drop(columns=self.to_drop_cols)\n",
    "\n",
    "        return X_transformed\n",
    "    def fit_transform(self, X):\n",
    "        self.fit(X)\n",
    "        return self.transform(X)\n",
    "\n",
    "#----------------------SplitterByType----------------------\n",
    "\n",
    "class SplitterByType():\n",
    "    def __init__(self):\n",
    "        self.__numeric_cols = None\n",
    "        self.__categorical_cols = None\n",
    "\n",
    "    def fit(self, X):\n",
    "        # Identify numeric and categorical columns\n",
    "        self.__numeric_cols = X.select_dtypes(include='number').columns\n",
    "        self.__categorical_cols = X.select_dtypes(include='object').columns\n",
    "\n",
    "\n",
    "\n",
    "    def transform(self, X):\n",
    "        X_transformed = X.copy()\n",
    "\n",
    "        # Create DataFrames based on column types\n",
    "        numeric_df = X[self.__numeric_cols].copy()\n",
    "        categorical_df = X[self.__categorical_cols].copy()\n",
    "\n",
    "        return numeric_df, categorical_df\n",
    "\n",
    "    def fit_transform(self, X):\n",
    "        self.fit(X)\n",
    "        return self.transform(X)\n",
    "\n",
    "\n",
    "#----------------------ConstantsAndHighCardinalityDropper----------------------\n",
    "class ConstantsAndHighCardinalityDropper():\n",
    "    def __init__(self,max_unique_values=2000):\n",
    "        self.max_unique_values = max_unique_values\n",
    "        self.__non_constant_cols = None\n",
    "        self.__high_cardinality_cols = None\n",
    "\n",
    "    def fit(self, X):\n",
    "        # Identify numeric and categorical columns\n",
    "        self.__non_constant_cols = X.columns[X.nunique() > 1]\n",
    "        self.__high_cardinality_cols = X.columns[X.nunique() > self.max_unique_values]\n",
    "\n",
    "\n",
    "    def transform(self, X):\n",
    "        X_transformed = X.copy()\n",
    "\n",
    "        # Get non constants columns\n",
    "        X_transformed = X_transformed[self.__non_constant_cols]\n",
    "\n",
    "        #drop high cardinality columns\n",
    "        X_transformed = X_transformed.drop(columns=self.__high_cardinality_cols)\n",
    "\n",
    "        return X_transformed\n",
    "\n",
    "    def fit_transform(self, X):\n",
    "        self.fit(X)\n",
    "        return self.transform(X)\n",
    "\n",
    "\n",
    "#----------------------ConstantsAndHighCardinalityDropper----------------------\n",
    "class FrequencyEncoder():\n",
    "    def __init__(self):\n",
    "        self.categorical_features = None\n",
    "        #dictionary with values of the categorical features as keys and dictionary of frequencies\n",
    "        self.mapper = {}\n",
    "\n",
    "    def fit(self, X):\n",
    "        # Identify numeric and categorical columns\n",
    "        self.categorical_features = X.select_dtypes('object').columns\n",
    "\n",
    "        for cat_col in self.categorical_features:\n",
    "            class_values_frequency = {}\n",
    "            for class_value in X[cat_col].unique():\n",
    "                class_values_frequency[class_value] = sum(X[cat_col]==class_value)/X.shape[0]\n",
    "            self.mapper[cat_col] = class_values_frequency\n",
    "\n",
    "\n",
    "    def transform(self, X):\n",
    "        X_transformed = X.copy()\n",
    "\n",
    "        # apply frequencies mapping\n",
    "        for cat_col in self.categorical_features:\n",
    "            X_transformed[cat_col] = X_transformed[cat_col].map(self.mapper[cat_col])\n",
    "\n",
    "        return X_transformed\n",
    "\n",
    "    def fit_transform(self, X):\n",
    "        self.fit(X)\n",
    "        return self.transform(X)"
   ]
  },
  {
   "cell_type": "code",
   "execution_count": 113,
   "metadata": {
    "id": "w3ty2sTo12XF"
   },
   "outputs": [],
   "source": [
    "df = pd.read_csv('../data/raw/training.csv')\n",
    "X = df.iloc[:,:-1].copy()\n",
    "y = df.Target\n",
    "X_val1 = pd.read_csv('../data/raw/data_validation3.csv')"
   ]
  },
  {
   "cell_type": "markdown",
   "metadata": {
    "id": "e33e7339-a9ca-46de-aac0-eac6b3151141"
   },
   "source": [
    "# Implementation"
   ]
  },
  {
   "cell_type": "code",
   "execution_count": 114,
   "metadata": {
    "id": "M1QeuFiS2E1z"
   },
   "outputs": [],
   "source": [
    "def preprocess_data(X: pd.DataFrame, X_val: pd.DataFrame, numeric_strategy='mean',categorical_strategy='most_frequent',\n",
    "                   threshold=0.85,cat_transformer_max_unique_values = 20,cardinality_max_unique_values=2000,\n",
    "                   n_components = 40, cat_encoder_strategy = 'woee'):\n",
    "    # Step 0: Copy Values to transform\n",
    "    X_transformed = X.copy()\n",
    "    X_val_transformed = X_val.copy()\n",
    "\n",
    "    # Step 1: Fill missing values\n",
    "    filler = MissingValuesFiller(numeric_strategy=numeric_strategy, categorical_strategy=categorical_strategy)\n",
    "    X_transformed = filler.fit_transform(X_transformed)\n",
    "    X_val_transformed = filler.transform(X_val_transformed)\n",
    "\n",
    "    # Step 2: Reduce dimensionality due to high correlation\n",
    "    correlation_reducer = DropHighCorrelationFeatures(threshold=threshold)\n",
    "    X_transformed = correlation_reducer.fit_transform(X_transformed)\n",
    "    X_val_transformed = correlation_reducer.transform(X_val_transformed)\n",
    "\n",
    "    # Step 3: Convert features to categorical\n",
    "    categorical_transformer = CategoricalTransformer(max_unique_values = cat_transformer_max_unique_values).fit(X_transformed)\n",
    "    X_transformed = categorical_transformer.transform(X_transformed)\n",
    "    X_val_transformed = categorical_transformer.transform(X_val_transformed)\n",
    "\n",
    "\n",
    "    # Step 4: Drop constants and high-cardinality features\n",
    "    dropper = ConstantsAndHighCardinalityDropper(max_unique_values = cardinality_max_unique_values)\n",
    "    X_transformed = dropper.fit_transform(X_transformed)\n",
    "    X_val_transformed = dropper.transform(X_val_transformed)\n",
    "\n",
    "\n",
    "    # Step 5: Split the DataFrame into numeric and categorical parts\n",
    "    splitter = SplitterByType()\n",
    "    X_transformed_numeric, X_transformed_categorical = splitter.fit_transform(X_transformed)\n",
    "    X_val_transformed_numeric, X_val_transformed_categorical = splitter.transform(X_val_transformed)\n",
    "    incosistencias_columns = ['Feature_11', 'Feature_71', 'Feature_88', 'Feature_90',\n",
    "       'Feature_143', 'Feature_156', 'Feature_176', 'Feature_194',\n",
    "       'Feature_200', 'Feature_216', 'Feature_237', 'Feature_268',\n",
    "       'Feature_273', 'Feature_319', 'Feature_339', 'Feature_386',\n",
    "       'Feature_391', 'Feature_402', 'Feature_407', 'Feature_410',\n",
    "       'Feature_417', 'Feature_421', 'Feature_422', 'Feature_427',\n",
    "       'Feature_431', 'Feature_441', 'Feature_471', 'Feature_477',\n",
    "       'Feature_492', 'Feature_532']\n",
    "    col_new = set(X_transformed_numeric.columns)-set(incosistencias_columns)\n",
    "    X_transformed_numeric = X_transformed_numeric[col_new]\n",
    "    X_val_transformed_numeric = X_val_transformed_numeric[col_new]\n",
    "\n",
    "    # Step 6: Reduce dimensionality of numeric features\n",
    "    pca = PCA(n_components)\n",
    "#     X_transformed_numeric = pd.DataFrame(pca.fit_transform(X_transformed_numeric))\n",
    "#     X_val_transformed_numeric = pd.DataFrame(pca.transform(X_val_transformed_numeric))\n",
    "#     print(f'Explained Variance with {n_components} components: {pca.explained_variance_ratio_.sum()}')\n",
    "\n",
    "    # Step 7: Categorical Encoding\n",
    "    if cat_encoder_strategy == 'woee':\n",
    "        # Step 7.1 (Optional): Apply WOE Encoding\n",
    "        X_columns = X_transformed_categorical.columns\n",
    "        woe_encoder = ce.WOEEncoder(cols=X_columns)\n",
    "\n",
    "        X_transformed_categorical = woe_encoder.fit_transform(X_transformed_categorical, y)\n",
    "        X_val_transformed_categorical = woe_encoder.transform(X_val_transformed_categorical)\n",
    "    elif cat_encoder_strategy == 'freq':\n",
    "        # Step 7.2 (Optional): Apply self defined Frequency Encoding\n",
    "        X_columns = X_transformed_categorical.columns\n",
    "        freq_encoder = FrequencyEncoder()\n",
    "\n",
    "        X_transformed_categorical = freq_encoder.fit_transform(X_transformed_categorical)\n",
    "        X_val_transformed_categorical = freq_encoder.transform(X_val_transformed_categorical)\n",
    "    else:\n",
    "        # Step 7.3 (Optional): Apply One Hot Encoding\n",
    "        X_columns = X_transformed_categorical.columns\n",
    "        ohe_encoder = ce.OneHotEncoder()\n",
    "\n",
    "        X_transformed_categorical = ohe_encoder.fit_transform(X_transformed_categorical)\n",
    "        X_val_transformed_categorical = ohe_encoder.transform(X_val_transformed_categorical)\n",
    "\n",
    "    # Step 8: Mixing steps 6 & 7 to prepare data for modelling\n",
    "    X_transformed = pd.concat([X_transformed_numeric,X_transformed_categorical], axis=1)\n",
    "    X_val_transformed = pd.concat([X_val_transformed_numeric,X_val_transformed_categorical], axis=1)\n",
    "\n",
    "    return X_transformed, X_val_transformed"
   ]
  },
  {
   "cell_type": "markdown",
   "metadata": {
    "id": "c3f7b1e5-680b-4784-b506-9078d4feb9a7"
   },
   "source": [
    "**Next steps... concatenate dataframes applying encoders to categorical data**"
   ]
  },
  {
   "cell_type": "code",
   "execution_count": 473,
   "metadata": {
    "colab": {
     "base_uri": "https://localhost:8080/"
    },
    "id": "5e756e87-282b-45d6-b8b8-964d5b7be714",
    "outputId": "45f4cfbd-7d71-4f21-b1cd-e0f34fd92ab9"
   },
   "outputs": [],
   "source": [
    "X_train, X_test, y_train, y_test = train_test_split(X, y, test_size=0.10, random_state=42, stratify=y)\n",
    "X_transformed, X_val_transformed = preprocess_data(X_train, X_test, cat_encoder_strategy='ohe')"
   ]
  },
  {
   "cell_type": "markdown",
   "metadata": {
    "id": "lxOzWLLz74vP"
   },
   "source": [
    "# AutoEncoder"
   ]
  },
  {
   "cell_type": "code",
   "execution_count": 474,
   "metadata": {
    "id": "7Zb_6JRn77T_",
    "scrolled": true
   },
   "outputs": [],
   "source": [
    "X_train = X_transformed.copy()\n",
    "X_test = X_val_transformed.copy()"
   ]
  },
  {
   "cell_type": "code",
   "execution_count": 475,
   "metadata": {
    "id": "TlHnYGyg9EcO"
   },
   "outputs": [],
   "source": [
    "# Dividir los datos en conjuntos de entrenamiento y prueba\n",
    "#X_train, X_test, y_train, y_test = train_test_split(X, Y, test_size=0.9, random_state=42)\n",
    "# X_train, X_test, y_train, y_test = X, X_val, Y, []\n",
    "\n",
    "X_train = np.array(X_train, dtype=np.float32)\n",
    "X_test = np.array(X_test, dtype=np.float32)\n",
    "\n",
    "y_train = np.array(y_train, dtype=np.float32)\n",
    "y_test = np.array(y_test, dtype=np.float32)"
   ]
  },
  {
   "cell_type": "code",
   "execution_count": 476,
   "metadata": {
    "colab": {
     "base_uri": "https://localhost:8080/"
    },
    "id": "qw9HRT-U9IMF",
    "outputId": "25a7a820-eca7-478c-bce5-d99665bf6603"
   },
   "outputs": [
    {
     "data": {
      "text/plain": [
       "((2306, 1292), (257, 1292), (2306,), (257,))"
      ]
     },
     "execution_count": 476,
     "metadata": {},
     "output_type": "execute_result"
    }
   ],
   "source": [
    "X_train.shape, X_test.shape, y_train.shape, y_test.shape"
   ]
  },
  {
   "cell_type": "code",
   "execution_count": 486,
   "metadata": {
    "colab": {
     "base_uri": "https://localhost:8080/",
     "height": 1000
    },
    "id": "9VmTwVV59Kve",
    "outputId": "307d9d84-97ce-4ee2-ae58-31454414f4bb",
    "scrolled": true
   },
   "outputs": [],
   "source": [
    "    # this is the size of our encoded representations\n",
    "\n",
    "    encoding_dim = 1000\n",
    "\n",
    "    # this is our input placeholder\n",
    "    input_data = Input(shape=(X_train.shape[1],))\n",
    "    # \"encoded\" is the encoded representation of the input\n",
    "    encoded = Dense(encoding_dim, activation=\"relu\")(input_data)\n",
    "    encoded = Dense(700, activation=\"relu\")(encoded)\n",
    "    encoded = Dense(500, activation=\"relu\")(encoded)\n",
    "    encoded = Dense(200, activation=\"relu\")(encoded)\n",
    "    encoded = Dense(150, activation=\"relu\")(encoded)\n",
    "    encoded = Dense(100, activation=\"relu\")(encoded)\n",
    "    # encoded = Dense(15, activation=\"relu\")(encoded)\n",
    "    encoded = Dense(50, activation=\"relu\")(encoded)\n",
    "\n",
    "    # \"decoded\" is the lossy reconstruction of the input\n",
    "\n",
    "    # decoded = Dense(15, activation=\"relu\")(encoded)\n",
    "    decoded = Dense(100, activation=\"relu\")(encoded)\n",
    "    decoded = Dense(150, activation=\"relu\")(decoded)\n",
    "    decoded = Dense(200, activation=\"relu\")(decoded)\n",
    "    decoded = Dense(500, activation=\"relu\")(decoded)\n",
    "    decoded = Dense(700, activation=\"relu\")(decoded)\n",
    "    decoded = Dense(encoding_dim, activation=\"relu\")(decoded)\n",
    "    decoded = Dense(X_train.shape[1], activation=\"sigmoid\")(decoded)"
   ]
  },
  {
   "cell_type": "code",
   "execution_count": 487,
   "metadata": {
    "colab": {
     "base_uri": "https://localhost:8080/"
    },
    "id": "6QWXvKdk9cpb",
    "outputId": "b4760c9d-838a-4601-8122-f6aaece96a41"
   },
   "outputs": [
    {
     "data": {
      "text/plain": [
       "((2306, 1292), (257, 1292))"
      ]
     },
     "execution_count": 487,
     "metadata": {},
     "output_type": "execute_result"
    }
   ],
   "source": [
    "X_train.shape, X_test.shape"
   ]
  },
  {
   "cell_type": "code",
   "execution_count": 488,
   "metadata": {
    "colab": {
     "base_uri": "https://localhost:8080/"
    },
    "id": "pCUrnHBK9drV",
    "outputId": "5e784c1f-598b-451e-b419-15f4cefc9f0d"
   },
   "outputs": [
    {
     "name": "stdout",
     "output_type": "stream",
     "text": [
      "73/73 [==============================] - 0s 3ms/step\n",
      "9/9 [==============================] - 0s 3ms/step\n"
     ]
    }
   ],
   "source": [
    "# Explit the autoencoder to get the encoder only\n",
    "# encoder = Model(input_layer, autoencoder.layers[6].output)\n",
    "# encoder.summary()\n",
    "\n",
    "# Encode the train data\n",
    "encoded_train = encoder.predict(X_train)\n",
    "\n",
    "# Encode the test data\n",
    "encoded_test = encoder.predict(X_test)\n"
   ]
  },
  {
   "cell_type": "code",
   "execution_count": 489,
   "metadata": {
    "colab": {
     "base_uri": "https://localhost:8080/"
    },
    "id": "u92W6YVs9gpG",
    "outputId": "aa866a56-ee2d-4282-cfa4-effc37332efa"
   },
   "outputs": [
    {
     "data": {
      "text/plain": [
       "((2306, 50), (2306,))"
      ]
     },
     "execution_count": 489,
     "metadata": {},
     "output_type": "execute_result"
    }
   ],
   "source": [
    "encoded_train.shape, y_train.shape"
   ]
  },
  {
   "cell_type": "markdown",
   "metadata": {
    "id": "88ffe9f5-4aa6-4ae2-a7b7-16f392b09e97"
   },
   "source": [
    "# Modelling"
   ]
  },
  {
   "cell_type": "code",
   "execution_count": 490,
   "metadata": {
    "id": "qkxSdjLRBfnb"
   },
   "outputs": [],
   "source": [
    "import xgboost as xgb\n",
    "from sklearn.metrics import accuracy_score, brier_score_loss\n",
    "from imblearn.over_sampling import SMOTE\n"
   ]
  },
  {
   "cell_type": "code",
   "execution_count": 491,
   "metadata": {},
   "outputs": [],
   "source": [
    "import pickle\n"
   ]
  },
  {
   "cell_type": "code",
   "execution_count": 492,
   "metadata": {},
   "outputs": [
    {
     "data": {
      "text/plain": [
       "(2306, 50)"
      ]
     },
     "execution_count": 492,
     "metadata": {},
     "output_type": "execute_result"
    }
   ],
   "source": [
    "encoded_train.shape"
   ]
  },
  {
   "cell_type": "code",
   "execution_count": 493,
   "metadata": {
    "id": "aU0-IV4eBgH4"
   },
   "outputs": [],
   "source": [
    "# Define la función objetivo para la optimización de hiperparámetros\n",
    "def objective(trial):\n",
    "    # Define los hiperparámetros que se optimizarán\n",
    "    param = {\n",
    "        \"verbose\": 1,\n",
    "        \"seed\":19970808,\n",
    "        \"objective\":\"binary:logistic\",\n",
    "        \"learning_rate\":trial.suggest_float(\"lambda\", 1e-8, 1.0, log=True),\n",
    "        \"n_estimators\": trial.suggest_categorical(\"n_estimators\", [5,20,50,100]),\n",
    "        \"max_depth\": trial.suggest_int(\"max_depth\", 1, 10),\n",
    "        \"lambda\": trial.suggest_float(\"lambda\", 1e-8, 1.0, log=True),\n",
    "        \"alpha\": trial.suggest_float(\"alpha\", 1e-8, 1.0, log=True),\n",
    "        \"subsample\": trial.suggest_float(\"subsample\", 0.2, 1.0),\n",
    "        \"colsample_bytree\": trial.suggest_float(\"colsample_bytree\", 0.2, 1.0),\n",
    "    }\n",
    "\n",
    "    # Crea un modelo de regresión logística con los hiperparámetros definidos\n",
    "    xgb_model = XGBClassifier(**param)\n",
    "    steps = [('over', SMOTE(sampling_strategy='minority', random_state=42)), ('model', xgb_model)]\n",
    "    # steps = [('model', xgb_model)]\n",
    "    pipeline = Pipeline(steps=steps)\n",
    "    pipeline.fit(encoded_train, y_train)\n",
    "    predictions = pipeline.predict_proba(encoded_test)[:,-1]\n",
    "    brier_score = brier_score_loss(y_test, predictions)\n",
    "    if brier_score<0.010:\n",
    "        print(\"../models_encoder/{}.pickle\".format(trial.number))\n",
    "        with open(\"../models_encoder/{}.pickle\".format(trial.number), \"wb\") as fout:\n",
    "             pickle.dump(pipeline, fout)\n",
    "    # Realiza validación cruzada para evaluar el modelo\n",
    "#     score = cross_val_score(\n",
    "#     pipeline,\n",
    "#     encoded_train,\n",
    "#     y_train,\n",
    "#     scoring=make_scorer(brier_score_loss, needs_proba=True),\n",
    "#     cv=StratifiedKFold(n_splits=3, shuffle=True, random_state=42),\n",
    "#     )\n",
    "\n",
    "    return brier_score"
   ]
  },
  {
   "cell_type": "code",
   "execution_count": 494,
   "metadata": {
    "scrolled": true
   },
   "outputs": [
    {
     "name": "stderr",
     "output_type": "stream",
     "text": [
      "[I 2023-12-17 23:39:40,528] A new study created in memory with name: no-name-e056f1ae-4416-42cc-9b5f-3c74cceed56d\n",
      "[I 2023-12-17 23:39:40,682] Trial 0 finished with value: 0.18357178938854807 and parameters: {'lambda': 0.10361265831817038, 'n_estimators': 50, 'max_depth': 10, 'alpha': 0.00157792978987944, 'subsample': 0.2655713966980904, 'colsample_bytree': 0.996746874775476}. Best is trial 0 with value: 0.18357178938854807.\n",
      "[I 2023-12-17 23:39:40,728] Trial 1 finished with value: 0.21417992158689264 and parameters: {'lambda': 0.4152756274683868, 'n_estimators': 5, 'max_depth': 9, 'alpha': 7.411017763082618e-05, 'subsample': 0.428450812358759, 'colsample_bytree': 0.9696400958249476}. Best is trial 0 with value: 0.18357178938854807.\n",
      "[I 2023-12-17 23:39:40,794] Trial 2 finished with value: 0.24999860942108035 and parameters: {'lambda': 1.0777743625434674e-06, 'n_estimators': 50, 'max_depth': 5, 'alpha': 0.00013743268398732248, 'subsample': 0.44427385278789755, 'colsample_bytree': 0.7851744210155138}. Best is trial 0 with value: 0.18357178938854807.\n",
      "[I 2023-12-17 23:39:40,822] Trial 3 finished with value: 0.24749764180740882 and parameters: {'lambda': 0.01644920596740377, 'n_estimators': 5, 'max_depth': 6, 'alpha': 4.5868693311686105e-08, 'subsample': 0.9419055898717237, 'colsample_bytree': 0.62391991821905}. Best is trial 0 with value: 0.18357178938854807.\n",
      "[I 2023-12-17 23:39:40,960] Trial 4 finished with value: 0.24999995175970263 and parameters: {'lambda': 1.636812028465793e-08, 'n_estimators': 100, 'max_depth': 6, 'alpha': 0.004828879534488241, 'subsample': 0.3146113484078996, 'colsample_bytree': 0.6211947080928426}. Best is trial 0 with value: 0.18357178938854807.\n",
      "[I 2023-12-17 23:39:41,047] Trial 5 finished with value: 0.24999206261459964 and parameters: {'lambda': 4.173758283778377e-06, 'n_estimators': 50, 'max_depth': 6, 'alpha': 1.6700577274243478e-06, 'subsample': 0.7370760580492923, 'colsample_bytree': 0.8817985494172689}. Best is trial 0 with value: 0.18357178938854807.\n",
      "[I 2023-12-17 23:39:41,100] Trial 6 finished with value: 0.24533407255083237 and parameters: {'lambda': 0.006069893653307134, 'n_estimators': 50, 'max_depth': 4, 'alpha': 0.0021347409785900467, 'subsample': 0.36138339369896005, 'colsample_bytree': 0.9007608400390006}. Best is trial 0 with value: 0.18357178938854807.\n",
      "[I 2023-12-17 23:39:41,335] Trial 7 finished with value: 0.1601298773471172 and parameters: {'lambda': 0.05081719230550761, 'n_estimators': 100, 'max_depth': 9, 'alpha': 8.160528472088718e-06, 'subsample': 0.8063119999821322, 'colsample_bytree': 0.583623526903896}. Best is trial 7 with value: 0.1601298773471172.\n",
      "[I 2023-12-17 23:39:41,379] Trial 8 finished with value: 0.24998303407911887 and parameters: {'lambda': 2.849298070131375e-05, 'n_estimators': 20, 'max_depth': 6, 'alpha': 2.5379840299293044e-05, 'subsample': 0.48653779410004017, 'colsample_bytree': 0.4760544454263753}. Best is trial 7 with value: 0.1601298773471172.\n",
      "[I 2023-12-17 23:39:41,567] Trial 9 finished with value: 0.17720300657806395 and parameters: {'lambda': 0.041802765934581945, 'n_estimators': 100, 'max_depth': 8, 'alpha': 0.29578057454041173, 'subsample': 0.4061734402021324, 'colsample_bytree': 0.41378671403753153}. Best is trial 7 with value: 0.1601298773471172.\n",
      "[I 2023-12-17 23:39:41,646] Trial 10 finished with value: 0.24990412260859896 and parameters: {'lambda': 0.0002613952526211763, 'n_estimators': 100, 'max_depth': 1, 'alpha': 2.8674961898532697e-08, 'subsample': 0.7733152118195452, 'colsample_bytree': 0.2824544306281245}. Best is trial 7 with value: 0.1601298773471172.\n",
      "[I 2023-12-17 23:39:41,867] Trial 11 finished with value: 0.23898262113444693 and parameters: {'lambda': 0.0025861465300147817, 'n_estimators': 100, 'max_depth': 8, 'alpha': 0.15267025426048922, 'subsample': 0.598327372871182, 'colsample_bytree': 0.4053110835943055}. Best is trial 7 with value: 0.1601298773471172.\n",
      "[I 2023-12-17 23:39:42,073] Trial 12 finished with value: 0.16317540128676286 and parameters: {'lambda': 0.49174432996613604, 'n_estimators': 100, 'max_depth': 8, 'alpha': 0.878647455637658, 'subsample': 0.9936917274628637, 'colsample_bytree': 0.4878802811835593}. Best is trial 7 with value: 0.1601298773471172.\n",
      "[I 2023-12-17 23:39:42,299] Trial 13 finished with value: 0.17504115331464679 and parameters: {'lambda': 0.8870742795210499, 'n_estimators': 100, 'max_depth': 10, 'alpha': 1.448844061966935e-06, 'subsample': 0.982986927785054, 'colsample_bytree': 0.7121660296106105}. Best is trial 7 with value: 0.1601298773471172.\n",
      "[I 2023-12-17 23:39:42,385] Trial 14 finished with value: 0.18559592263095184 and parameters: {'lambda': 0.9682900719790632, 'n_estimators': 20, 'max_depth': 8, 'alpha': 9.739313337358702e-07, 'subsample': 0.8523593246694033, 'colsample_bytree': 0.5113310725130719}. Best is trial 7 with value: 0.1601298773471172.\n",
      "[I 2023-12-17 23:39:42,608] Trial 15 finished with value: 0.24826079725243572 and parameters: {'lambda': 0.00036154166792924707, 'n_estimators': 100, 'max_depth': 8, 'alpha': 0.06153310935301594, 'subsample': 0.8620311184979571, 'colsample_bytree': 0.3032903988525934}. Best is trial 7 with value: 0.1601298773471172.\n",
      "[I 2023-12-17 23:39:42,708] Trial 16 finished with value: 0.24801174303663998 and parameters: {'lambda': 0.002422572458200263, 'n_estimators': 100, 'max_depth': 3, 'alpha': 8.451027645561193e-06, 'subsample': 0.6617158533332447, 'colsample_bytree': 0.5446162037916965}. Best is trial 7 with value: 0.1601298773471172.\n",
      "[I 2023-12-17 23:39:42,893] Trial 17 finished with value: 0.1641059442117609 and parameters: {'lambda': 0.08808824501455945, 'n_estimators': 100, 'max_depth': 7, 'alpha': 0.0005025375516781285, 'subsample': 0.9070136900767857, 'colsample_bytree': 0.7150287406106269}. Best is trial 7 with value: 0.1601298773471172.\n",
      "[I 2023-12-17 23:39:42,960] Trial 18 finished with value: 0.24969121803096112 and parameters: {'lambda': 0.0011758801843947649, 'n_estimators': 5, 'max_depth': 9, 'alpha': 0.009107738637355306, 'subsample': 0.9977477423764535, 'colsample_bytree': 0.3743411174696583}. Best is trial 7 with value: 0.1601298773471172.\n",
      "[I 2023-12-17 23:39:43,078] Trial 19 finished with value: 0.24996797886630048 and parameters: {'lambda': 2.8434837681596034e-05, 'n_estimators': 20, 'max_depth': 9, 'alpha': 1.5844232978139024e-07, 'subsample': 0.7976064254242454, 'colsample_bytree': 0.2056273201783802}. Best is trial 7 with value: 0.1601298773471172.\n",
      "[I 2023-12-17 23:39:43,253] Trial 20 finished with value: 0.15344525433944461 and parameters: {'lambda': 0.12487424912686855, 'n_estimators': 100, 'max_depth': 7, 'alpha': 0.02720819928735174, 'subsample': 0.6562719933033128, 'colsample_bytree': 0.5681695247470504}. Best is trial 20 with value: 0.15344525433944461.\n",
      "[I 2023-12-17 23:39:43,441] Trial 21 finished with value: 0.16759891347299405 and parameters: {'lambda': 0.14274524258531265, 'n_estimators': 100, 'max_depth': 7, 'alpha': 0.7540504137942451, 'subsample': 0.6030489917025488, 'colsample_bytree': 0.5837551687573456}. Best is trial 20 with value: 0.15344525433944461.\n",
      "[I 2023-12-17 23:39:43,638] Trial 22 finished with value: 0.21358069133663138 and parameters: {'lambda': 0.014485271833420466, 'n_estimators': 100, 'max_depth': 7, 'alpha': 0.02251683213426946, 'subsample': 0.6733692488563187, 'colsample_bytree': 0.6932663777776149}. Best is trial 20 with value: 0.15344525433944461.\n",
      "[I 2023-12-17 23:39:43,906] Trial 23 finished with value: 0.1562336455823223 and parameters: {'lambda': 0.29992769569233485, 'n_estimators': 100, 'max_depth': 10, 'alpha': 0.950734707796866, 'subsample': 0.560138988095644, 'colsample_bytree': 0.4899589597222975}. Best is trial 20 with value: 0.15344525433944461.\n",
      "[I 2023-12-17 23:39:44,194] Trial 24 finished with value: 0.17120029948559107 and parameters: {'lambda': 0.026875076922394252, 'n_estimators': 100, 'max_depth': 10, 'alpha': 0.04960614308865938, 'subsample': 0.5239332834021265, 'colsample_bytree': 0.647812343545813}. Best is trial 20 with value: 0.15344525433944461.\n",
      "[I 2023-12-17 23:39:44,401] Trial 25 finished with value: 0.15408909724109102 and parameters: {'lambda': 0.21280289867247873, 'n_estimators': 100, 'max_depth': 9, 'alpha': 0.0003694542311098512, 'subsample': 0.5591844265564877, 'colsample_bytree': 0.5497926352912094}. Best is trial 20 with value: 0.15344525433944461.\n"
     ]
    },
    {
     "name": "stderr",
     "output_type": "stream",
     "text": [
      "[I 2023-12-17 23:39:44,636] Trial 26 finished with value: 0.15259549934818392 and parameters: {'lambda': 0.18579708798316436, 'n_estimators': 100, 'max_depth': 10, 'alpha': 0.00047312231813239936, 'subsample': 0.5441131520217906, 'colsample_bytree': 0.45714696737074123}. Best is trial 26 with value: 0.15259549934818392.\n",
      "[I 2023-12-17 23:39:44,719] Trial 27 finished with value: 0.2499999679944054 and parameters: {'lambda': 1.1544741090573129e-07, 'n_estimators': 5, 'max_depth': 9, 'alpha': 0.0003240508785011433, 'subsample': 0.6684042396427148, 'colsample_bytree': 0.44649848577459117}. Best is trial 26 with value: 0.15259549934818392.\n",
      "[I 2023-12-17 23:39:44,800] Trial 28 finished with value: 0.2425505652013502 and parameters: {'lambda': 0.010406406623412611, 'n_estimators': 20, 'max_depth': 7, 'alpha': 0.0007577975083972011, 'subsample': 0.5165781493725595, 'colsample_bytree': 0.3169948166702807}. Best is trial 26 with value: 0.15259549934818392.\n",
      "[I 2023-12-17 23:39:44,978] Trial 29 finished with value: 0.17804223790613574 and parameters: {'lambda': 0.13375500425928913, 'n_estimators': 50, 'max_depth': 10, 'alpha': 0.0022058437406266462, 'subsample': 0.23089785494997012, 'colsample_bytree': 0.7820098708735803}. Best is trial 26 with value: 0.15259549934818392.\n",
      "[I 2023-12-17 23:39:45,121] Trial 30 finished with value: 0.2478802691044624 and parameters: {'lambda': 0.0008899985864846471, 'n_estimators': 100, 'max_depth': 5, 'alpha': 0.00011166586497677003, 'subsample': 0.7255878539063056, 'colsample_bytree': 0.5543313380243602}. Best is trial 26 with value: 0.15259549934818392.\n",
      "[I 2023-12-17 23:39:45,399] Trial 31 finished with value: 0.1550259200866685 and parameters: {'lambda': 0.17501005678147094, 'n_estimators': 100, 'max_depth': 10, 'alpha': 0.021464000764083706, 'subsample': 0.5894958216445336, 'colsample_bytree': 0.518467690556212}. Best is trial 26 with value: 0.15259549934818392.\n",
      "[I 2023-12-17 23:39:45,647] Trial 32 finished with value: 0.15735638344146363 and parameters: {'lambda': 0.17433435169994826, 'n_estimators': 100, 'max_depth': 10, 'alpha': 0.015514255735657546, 'subsample': 0.5982164655751968, 'colsample_bytree': 0.5361242133608145}. Best is trial 26 with value: 0.15259549934818392.\n",
      "[I 2023-12-17 23:39:45,861] Trial 33 finished with value: 0.1648402771342412 and parameters: {'lambda': 0.054586505864695795, 'n_estimators': 100, 'max_depth': 9, 'alpha': 0.005922463740729927, 'subsample': 0.46550494358446837, 'colsample_bytree': 0.3450287511370224}. Best is trial 26 with value: 0.15259549934818392.\n",
      "[I 2023-12-17 23:39:45,958] Trial 34 finished with value: 0.20782243813454332 and parameters: {'lambda': 0.2675870969281569, 'n_estimators': 5, 'max_depth': 10, 'alpha': 0.0013729944737957045, 'subsample': 0.5557536008187457, 'colsample_bytree': 0.4464879188952537}. Best is trial 26 with value: 0.15259549934818392.\n",
      "[I 2023-12-17 23:39:46,277] Trial 35 finished with value: 0.22134716340847188 and parameters: {'lambda': 0.005992563752692491, 'n_estimators': 100, 'max_depth': 9, 'alpha': 0.0002049511906333669, 'subsample': 0.6404117363420482, 'colsample_bytree': 0.6606309760870888}. Best is trial 26 with value: 0.15259549934818392.\n",
      "[I 2023-12-17 23:39:46,420] Trial 36 finished with value: 0.15825616650168556 and parameters: {'lambda': 0.4467594340470661, 'n_estimators': 50, 'max_depth': 9, 'alpha': 5.444241499890253e-05, 'subsample': 0.7178802913591389, 'colsample_bytree': 0.6026975523401421}. Best is trial 26 with value: 0.15259549934818392.\n",
      "[I 2023-12-17 23:39:46,681] Trial 37 finished with value: 0.18509884599561469 and parameters: {'lambda': 0.025359793455766062, 'n_estimators': 100, 'max_depth': 10, 'alpha': 0.040822401349514655, 'subsample': 0.4420470204898973, 'colsample_bytree': 0.4361472277336243}. Best is trial 26 with value: 0.15259549934818392.\n",
      "[I 2023-12-17 23:39:46,818] Trial 38 finished with value: 0.18921652989958784 and parameters: {'lambda': 0.06825646182051227, 'n_estimators': 100, 'max_depth': 5, 'alpha': 0.004669123879038733, 'subsample': 0.3638041581927662, 'colsample_bytree': 0.5251540545555708}. Best is trial 26 with value: 0.15259549934818392.\n",
      "[I 2023-12-17 23:39:46,960] Trial 39 finished with value: 0.23770681091393012 and parameters: {'lambda': 0.00543484687887822, 'n_estimators': 50, 'max_depth': 8, 'alpha': 2.9897098109554164e-05, 'subsample': 0.49576413776258144, 'colsample_bytree': 0.7674786245621593}. Best is trial 26 with value: 0.15259549934818392.\n",
      "[I 2023-12-17 23:39:47,005] Trial 40 finished with value: 0.2499999464256173 and parameters: {'lambda': 9.61071033857797e-07, 'n_estimators': 5, 'max_depth': 3, 'alpha': 0.14402481458863733, 'subsample': 0.5616393574710894, 'colsample_bytree': 0.5753409324267706}. Best is trial 26 with value: 0.15259549934818392.\n",
      "[I 2023-12-17 23:39:47,255] Trial 41 finished with value: 0.16349823063036023 and parameters: {'lambda': 0.4498707212403717, 'n_estimators': 100, 'max_depth': 10, 'alpha': 0.22334456360169103, 'subsample': 0.5539694554314006, 'colsample_bytree': 0.5125565712979752}. Best is trial 26 with value: 0.15259549934818392.\n",
      "[I 2023-12-17 23:39:47,495] Trial 42 finished with value: 0.16159232179451216 and parameters: {'lambda': 0.22620355467444628, 'n_estimators': 100, 'max_depth': 10, 'alpha': 0.0009157987903699762, 'subsample': 0.624246433173886, 'colsample_bytree': 0.4760558924810973}. Best is trial 26 with value: 0.15259549934818392.\n",
      "[I 2023-12-17 23:39:47,710] Trial 43 finished with value: 0.1605641157598941 and parameters: {'lambda': 0.9978363227394353, 'n_estimators': 100, 'max_depth': 9, 'alpha': 0.003113654768218103, 'subsample': 0.6941633659840036, 'colsample_bytree': 0.6285922252116793}. Best is trial 26 with value: 0.15259549934818392.\n",
      "[I 2023-12-17 23:39:47,994] Trial 44 finished with value: 0.16986119838602498 and parameters: {'lambda': 0.03752719997974785, 'n_estimators': 100, 'max_depth': 10, 'alpha': 0.32615002448190883, 'subsample': 0.5715320537340369, 'colsample_bytree': 0.4063108115042636}. Best is trial 26 with value: 0.15259549934818392.\n",
      "[I 2023-12-17 23:39:48,232] Trial 45 finished with value: 0.15130580670987262 and parameters: {'lambda': 0.11261970182845066, 'n_estimators': 100, 'max_depth': 9, 'alpha': 0.018270382200765916, 'subsample': 0.5085038972312445, 'colsample_bytree': 0.4827737989407942}. Best is trial 45 with value: 0.15130580670987262.\n",
      "[I 2023-12-17 23:39:48,418] Trial 46 finished with value: 0.1653464844449701 and parameters: {'lambda': 0.08687187902725729, 'n_estimators': 100, 'max_depth': 8, 'alpha': 0.011562239417143353, 'subsample': 0.4058504624193829, 'colsample_bytree': 0.3685473524551176}. Best is trial 45 with value: 0.15130580670987262.\n",
      "[I 2023-12-17 23:39:48,484] Trial 47 finished with value: 0.24308094116005077 and parameters: {'lambda': 0.012368583782361792, 'n_estimators': 20, 'max_depth': 6, 'alpha': 0.027073038073136314, 'subsample': 0.31099696799866167, 'colsample_bytree': 0.5692372639674094}. Best is trial 45 with value: 0.15130580670987262.\n",
      "[I 2023-12-17 23:39:48,696] Trial 48 finished with value: 0.19901664041038544 and parameters: {'lambda': 0.022577513928840616, 'n_estimators': 100, 'max_depth': 8, 'alpha': 0.10601707562309842, 'subsample': 0.4713310684767098, 'colsample_bytree': 0.4617409418009347}. Best is trial 45 with value: 0.15130580670987262.\n",
      "[I 2023-12-17 23:39:48,912] Trial 49 finished with value: 0.24993253972824853 and parameters: {'lambda': 1.5112868917650619e-05, 'n_estimators': 100, 'max_depth': 7, 'alpha': 1.3475410691014612e-05, 'subsample': 0.5227632447217899, 'colsample_bytree': 0.9269299580280651}. Best is trial 45 with value: 0.15130580670987262.\n",
      "[I 2023-12-17 23:39:49,063] Trial 50 finished with value: 0.2432065243005138 and parameters: {'lambda': 0.002925869049216832, 'n_estimators': 50, 'max_depth': 9, 'alpha': 0.00022853966416764166, 'subsample': 0.38540875400714747, 'colsample_bytree': 0.6048954221381458}. Best is trial 45 with value: 0.15130580670987262.\n",
      "[I 2023-12-17 23:39:49,318] Trial 51 finished with value: 0.15857096908274515 and parameters: {'lambda': 0.3106971607711073, 'n_estimators': 100, 'max_depth': 10, 'alpha': 0.4641647421565289, 'subsample': 0.5959736149074201, 'colsample_bytree': 0.4852099135594885}. Best is trial 45 with value: 0.15130580670987262.\n"
     ]
    },
    {
     "name": "stderr",
     "output_type": "stream",
     "text": [
      "[I 2023-12-17 23:39:49,540] Trial 52 finished with value: 0.17582109051588424 and parameters: {'lambda': 0.5227704341419366, 'n_estimators': 100, 'max_depth': 9, 'alpha': 0.07191428136307991, 'subsample': 0.6286374995760251, 'colsample_bytree': 0.5012139364170808}. Best is trial 45 with value: 0.15130580670987262.\n",
      "[I 2023-12-17 23:39:49,620] Trial 53 finished with value: 0.2459091018543173 and parameters: {'lambda': 0.1269810393322465, 'n_estimators': 100, 'max_depth': 1, 'alpha': 6.250607489183096e-05, 'subsample': 0.5367034290406845, 'colsample_bytree': 0.4152513833327647}. Best is trial 45 with value: 0.15130580670987262.\n",
      "[I 2023-12-17 23:39:49,868] Trial 54 finished with value: 0.15726272786414244 and parameters: {'lambda': 0.06887192850393829, 'n_estimators': 100, 'max_depth': 9, 'alpha': 0.007019352946013816, 'subsample': 0.5866079626057497, 'colsample_bytree': 0.543861882765806}. Best is trial 45 with value: 0.15130580670987262.\n",
      "[I 2023-12-17 23:39:50,133] Trial 55 finished with value: 0.16325236842304852 and parameters: {'lambda': 0.22423179627367992, 'n_estimators': 100, 'max_depth': 10, 'alpha': 0.02558147521800943, 'subsample': 0.5023603736913823, 'colsample_bytree': 0.5006917798231523}. Best is trial 45 with value: 0.15130580670987262.\n",
      "[I 2023-12-17 23:39:50,341] Trial 56 finished with value: 0.1915170309712247 and parameters: {'lambda': 0.6370635636874482, 'n_estimators': 100, 'max_depth': 8, 'alpha': 0.0004912634072196314, 'subsample': 0.45939681058535464, 'colsample_bytree': 0.6598048217201609}. Best is trial 45 with value: 0.15130580670987262.\n",
      "[I 2023-12-17 23:39:50,402] Trial 57 finished with value: 0.24031293838832732 and parameters: {'lambda': 0.04246518202844065, 'n_estimators': 20, 'max_depth': 4, 'alpha': 0.0018462792251519077, 'subsample': 0.7658618068735851, 'colsample_bytree': 0.431064530666671}. Best is trial 45 with value: 0.15130580670987262.\n",
      "[I 2023-12-17 23:39:50,639] Trial 58 finished with value: 0.15500416801312397 and parameters: {'lambda': 0.10058432258585946, 'n_estimators': 100, 'max_depth': 9, 'alpha': 2.9512556193291516e-06, 'subsample': 0.6509916403966896, 'colsample_bytree': 0.3705669047606651}. Best is trial 45 with value: 0.15130580670987262.\n",
      "[I 2023-12-17 23:39:50,710] Trial 59 finished with value: 0.23550210174913533 and parameters: {'lambda': 0.0938091863194909, 'n_estimators': 5, 'max_depth': 8, 'alpha': 9.21914007907936e-07, 'subsample': 0.6368047505932443, 'colsample_bytree': 0.24277050124702054}. Best is trial 45 with value: 0.15130580670987262.\n",
      "[I 2023-12-17 23:39:50,916] Trial 60 finished with value: 0.2499999093175416 and parameters: {'lambda': 2.2223256618436234e-08, 'n_estimators': 100, 'max_depth': 7, 'alpha': 1.1975385174514192e-08, 'subsample': 0.695178470715852, 'colsample_bytree': 0.37786439222045126}. Best is trial 45 with value: 0.15130580670987262.\n",
      "[I 2023-12-17 23:39:51,160] Trial 61 finished with value: 0.16429217274263241 and parameters: {'lambda': 0.32831458522941903, 'n_estimators': 100, 'max_depth': 9, 'alpha': 2.4731898722229675e-07, 'subsample': 0.5387829192361306, 'colsample_bytree': 0.46445163599830175}. Best is trial 45 with value: 0.15130580670987262.\n",
      "[I 2023-12-17 23:39:51,424] Trial 62 finished with value: 0.15038696411415892 and parameters: {'lambda': 0.1529521395584142, 'n_estimators': 100, 'max_depth': 10, 'alpha': 5.385267930434962e-06, 'subsample': 0.6605811345152689, 'colsample_bytree': 0.5183678094381127}. Best is trial 62 with value: 0.15038696411415892.\n",
      "[I 2023-12-17 23:39:51,683] Trial 63 finished with value: 0.15311760999883672 and parameters: {'lambda': 0.1289722595493005, 'n_estimators': 100, 'max_depth': 10, 'alpha': 1.9203441360419964e-06, 'subsample': 0.6536716572240178, 'colsample_bytree': 0.335401435463615}. Best is trial 62 with value: 0.15038696411415892.\n",
      "[I 2023-12-17 23:39:51,954] Trial 64 finished with value: 0.197093395783326 and parameters: {'lambda': 0.016551414387383313, 'n_estimators': 100, 'max_depth': 9, 'alpha': 6.511418694391723e-06, 'subsample': 0.7445538800441681, 'colsample_bytree': 0.28412334149592683}. Best is trial 62 with value: 0.15038696411415892.\n",
      "[I 2023-12-17 23:39:52,259] Trial 65 finished with value: 0.16483827822606045 and parameters: {'lambda': 0.043673446003034216, 'n_estimators': 100, 'max_depth': 10, 'alpha': 3.1050702725312606e-06, 'subsample': 0.6951416008646611, 'colsample_bytree': 0.38545834087331715}. Best is trial 62 with value: 0.15038696411415892.\n",
      "[I 2023-12-17 23:39:52,411] Trial 66 finished with value: 0.1705983106645093 and parameters: {'lambda': 0.12873625750320672, 'n_estimators': 100, 'max_depth': 6, 'alpha': 5.251690009988849e-07, 'subsample': 0.6603596724959991, 'colsample_bytree': 0.3331940379189798}. Best is trial 62 with value: 0.15038696411415892.\n",
      "[I 2023-12-17 23:39:52,674] Trial 67 finished with value: 0.20969243927811015 and parameters: {'lambda': 0.010661752368691388, 'n_estimators': 100, 'max_depth': 9, 'alpha': 2.1590204765409e-05, 'subsample': 0.6222501138172829, 'colsample_bytree': 0.34493627441334795}. Best is trial 62 with value: 0.15038696411415892.\n",
      "[I 2023-12-17 23:39:53,022] Trial 68 finished with value: 0.24828480694644225 and parameters: {'lambda': 0.00024803854033101416, 'n_estimators': 100, 'max_depth': 10, 'alpha': 5.980460580638884e-06, 'subsample': 0.8087767301627011, 'colsample_bytree': 0.5491598207427838}. Best is trial 62 with value: 0.15038696411415892.\n",
      "[I 2023-12-17 23:39:53,117] Trial 69 finished with value: 0.19398111171423632 and parameters: {'lambda': 0.6545349644937635, 'n_estimators': 20, 'max_depth': 8, 'alpha': 2.5973293448595748e-06, 'subsample': 0.6585216446414223, 'colsample_bytree': 0.2509003789740888}. Best is trial 62 with value: 0.15038696411415892.\n",
      "[I 2023-12-17 23:39:53,407] Trial 70 finished with value: 0.17618045932981136 and parameters: {'lambda': 0.03098952408599498, 'n_estimators': 100, 'max_depth': 9, 'alpha': 7.192628685627529e-08, 'subsample': 0.6138617797063306, 'colsample_bytree': 0.6270271782002291}. Best is trial 62 with value: 0.15038696411415892.\n",
      "[I 2023-12-17 23:39:53,684] Trial 71 finished with value: 0.15208085457168402 and parameters: {'lambda': 0.1798015130438691, 'n_estimators': 100, 'max_depth': 10, 'alpha': 1.9430527771215685e-06, 'subsample': 0.577596648866947, 'colsample_bytree': 0.523480729929861}. Best is trial 62 with value: 0.15038696411415892.\n",
      "[I 2023-12-17 23:39:53,981] Trial 72 finished with value: 0.1541013160629328 and parameters: {'lambda': 0.07930198463372234, 'n_estimators': 100, 'max_depth': 10, 'alpha': 5.407762870190745e-07, 'subsample': 0.6509276409866822, 'colsample_bytree': 0.583122332314256}. Best is trial 62 with value: 0.15038696411415892.\n",
      "[I 2023-12-17 23:39:54,249] Trial 73 finished with value: 0.14861812009000933 and parameters: {'lambda': 0.2033754484033736, 'n_estimators': 100, 'max_depth': 10, 'alpha': 5.170272030949389e-07, 'subsample': 0.5785591385916181, 'colsample_bytree': 0.5711660380343593}. Best is trial 73 with value: 0.14861812009000933.\n",
      "[I 2023-12-17 23:39:54,493] Trial 74 finished with value: 0.16358770780431087 and parameters: {'lambda': 0.21508119678881393, 'n_estimators': 100, 'max_depth': 10, 'alpha': 3.328169564585627e-07, 'subsample': 0.5772838328302351, 'colsample_bytree': 0.5624452085382587}. Best is trial 73 with value: 0.14861812009000933.\n",
      "[I 2023-12-17 23:39:54,673] Trial 75 finished with value: 0.1570285323869832 and parameters: {'lambda': 0.3801603600367211, 'n_estimators': 50, 'max_depth': 10, 'alpha': 1.3960843582503216e-06, 'subsample': 0.6838176860387255, 'colsample_bytree': 0.6007434578624605}. Best is trial 73 with value: 0.14861812009000933.\n",
      "[I 2023-12-17 23:39:54,915] Trial 76 finished with value: 0.1826030288582683 and parameters: {'lambda': 0.9522526243091327, 'n_estimators': 100, 'max_depth': 10, 'alpha': 1.612608500655487e-07, 'subsample': 0.4894957396601418, 'colsample_bytree': 0.5231127085773969}. Best is trial 73 with value: 0.14861812009000933.\n",
      "[I 2023-12-17 23:39:55,012] Trial 77 finished with value: 0.2185279944480806 and parameters: {'lambda': 0.18856963204907054, 'n_estimators': 5, 'max_depth': 10, 'alpha': 6.799373404773296e-08, 'subsample': 0.5451353294589094, 'colsample_bytree': 0.6872305955574407}. Best is trial 73 with value: 0.14861812009000933.\n"
     ]
    },
    {
     "name": "stderr",
     "output_type": "stream",
     "text": [
      "[I 2023-12-17 23:39:55,314] Trial 78 finished with value: 0.18363911234700495 and parameters: {'lambda': 0.021180342315591492, 'n_estimators': 100, 'max_depth': 10, 'alpha': 7.425826988920218e-07, 'subsample': 0.5086690856119318, 'colsample_bytree': 0.5283247732962101}. Best is trial 73 with value: 0.14861812009000933.\n",
      "[I 2023-12-17 23:39:55,568] Trial 79 finished with value: 0.16484115990505185 and parameters: {'lambda': 0.061745940834743655, 'n_estimators': 100, 'max_depth': 9, 'alpha': 0.00010315947128759508, 'subsample': 0.43205909609407456, 'colsample_bytree': 0.4581493048891768}. Best is trial 73 with value: 0.14861812009000933.\n",
      "[I 2023-12-17 23:39:55,693] Trial 80 finished with value: 0.2247110135615614 and parameters: {'lambda': 0.12697680038685755, 'n_estimators': 100, 'max_depth': 2, 'alpha': 1.6741695151566933e-06, 'subsample': 0.7196897920353187, 'colsample_bytree': 0.6401705917511114}. Best is trial 73 with value: 0.14861812009000933.\n",
      "[I 2023-12-17 23:39:56,026] Trial 81 finished with value: 0.15792246869079002 and parameters: {'lambda': 0.05789200740138503, 'n_estimators': 100, 'max_depth': 10, 'alpha': 4.3837940351361943e-07, 'subsample': 0.5734734703680301, 'colsample_bytree': 0.5859186518061306}. Best is trial 73 with value: 0.14861812009000933.\n",
      "[I 2023-12-17 23:39:56,291] Trial 82 finished with value: 0.16462939825207676 and parameters: {'lambda': 0.32148261954553553, 'n_estimators': 100, 'max_depth': 10, 'alpha': 4.697091025566348e-06, 'subsample': 0.6098952962231718, 'colsample_bytree': 0.6090580642076483}. Best is trial 73 with value: 0.14861812009000933.\n",
      "[I 2023-12-17 23:39:56,559] Trial 83 finished with value: 0.15167496044655826 and parameters: {'lambda': 0.09324799486443726, 'n_estimators': 100, 'max_depth': 10, 'alpha': 1.3858295064460999e-06, 'subsample': 0.6464057259298248, 'colsample_bytree': 0.5795028925294233}. Best is trial 73 with value: 0.14861812009000933.\n",
      "[I 2023-12-17 23:39:56,822] Trial 84 finished with value: 0.17768951044489195 and parameters: {'lambda': 0.6066746923518056, 'n_estimators': 100, 'max_depth': 10, 'alpha': 2.1415101419631955e-06, 'subsample': 0.5983323561502495, 'colsample_bytree': 0.5530842211507487}. Best is trial 73 with value: 0.14861812009000933.\n",
      "[I 2023-12-17 23:39:57,085] Trial 85 finished with value: 0.16899328490749124 and parameters: {'lambda': 0.04236138672902254, 'n_estimators': 100, 'max_depth': 9, 'alpha': 1.4007532454480465e-05, 'subsample': 0.6778033161599026, 'colsample_bytree': 0.47976258721186593}. Best is trial 73 with value: 0.14861812009000933.\n",
      "[I 2023-12-17 23:39:57,306] Trial 86 finished with value: 0.16634732731501134 and parameters: {'lambda': 0.18623945975041314, 'n_estimators': 100, 'max_depth': 9, 'alpha': 1.0597403816655104e-06, 'subsample': 0.5260579871991747, 'colsample_bytree': 0.5147781428283515}. Best is trial 73 with value: 0.14861812009000933.\n",
      "[I 2023-12-17 23:39:57,602] Trial 87 finished with value: 0.21953742030101892 and parameters: {'lambda': 0.006732659182846867, 'n_estimators': 100, 'max_depth': 10, 'alpha': 3.964627651343725e-06, 'subsample': 0.4769958376982142, 'colsample_bytree': 0.49819750423131176}. Best is trial 73 with value: 0.14861812009000933.\n",
      "[I 2023-12-17 23:39:57,802] Trial 88 finished with value: 0.24999493305925652 and parameters: {'lambda': 1.4589093963561612e-06, 'n_estimators': 50, 'max_depth': 10, 'alpha': 3.364697681463616e-05, 'subsample': 0.6362352733395793, 'colsample_bytree': 0.5332738582060149}. Best is trial 73 with value: 0.14861812009000933.\n",
      "[I 2023-12-17 23:39:57,939] Trial 89 finished with value: 0.1868323640426215 and parameters: {'lambda': 0.13222315003494345, 'n_estimators': 20, 'max_depth': 10, 'alpha': 0.0010736496638388908, 'subsample': 0.5596850160661305, 'colsample_bytree': 0.5701945540691701}. Best is trial 73 with value: 0.14861812009000933.\n",
      "[I 2023-12-17 23:39:58,212] Trial 90 finished with value: 0.24948716888038466 and parameters: {'lambda': 8.78858662599471e-05, 'n_estimators': 100, 'max_depth': 9, 'alpha': 9.774729043113653e-06, 'subsample': 0.6137745708076319, 'colsample_bytree': 0.42856579473700396}. Best is trial 73 with value: 0.14861812009000933.\n",
      "[I 2023-12-17 23:39:58,487] Trial 91 finished with value: 0.15326807651201196 and parameters: {'lambda': 0.06661667649372315, 'n_estimators': 100, 'max_depth': 10, 'alpha': 6.188597305475058e-07, 'subsample': 0.7076996309029925, 'colsample_bytree': 0.5855455027956807}. Best is trial 73 with value: 0.14861812009000933.\n",
      "[I 2023-12-17 23:39:58,737] Trial 92 finished with value: 0.17038622839783601 and parameters: {'lambda': 0.2751086053790418, 'n_estimators': 100, 'max_depth': 10, 'alpha': 1.7908774218544364e-07, 'subsample': 0.7425037259648434, 'colsample_bytree': 0.5796187118647271}. Best is trial 73 with value: 0.14861812009000933.\n",
      "[I 2023-12-17 23:39:59,004] Trial 93 finished with value: 0.15549524170588108 and parameters: {'lambda': 0.0872762753953357, 'n_estimators': 100, 'max_depth': 10, 'alpha': 8.993014595862707e-08, 'subsample': 0.7081539543198488, 'colsample_bytree': 0.6777716892819232}. Best is trial 73 with value: 0.14861812009000933.\n",
      "[I 2023-12-17 23:39:59,235] Trial 94 finished with value: 0.16661669897910208 and parameters: {'lambda': 0.4232351002697615, 'n_estimators': 100, 'max_depth': 9, 'alpha': 0.00020602657769444615, 'subsample': 0.5874223210357484, 'colsample_bytree': 0.623091873003336}. Best is trial 73 with value: 0.14861812009000933.\n",
      "[I 2023-12-17 23:39:59,569] Trial 95 finished with value: 0.164543901392962 and parameters: {'lambda': 0.03434615137042165, 'n_estimators': 100, 'max_depth': 10, 'alpha': 0.0034156363119388217, 'subsample': 0.7581769106627196, 'colsample_bytree': 0.5411987975341132}. Best is trial 73 with value: 0.14861812009000933.\n",
      "[I 2023-12-17 23:39:59,632] Trial 96 finished with value: 0.22685657257918324 and parameters: {'lambda': 0.15820760919183569, 'n_estimators': 5, 'max_depth': 7, 'alpha': 7.152250813068765e-07, 'subsample': 0.6725603882831359, 'colsample_bytree': 0.9977140675087118}. Best is trial 73 with value: 0.14861812009000933.\n",
      "[I 2023-12-17 23:39:59,903] Trial 97 finished with value: 0.18558905300198122 and parameters: {'lambda': 0.02292268846290366, 'n_estimators': 100, 'max_depth': 9, 'alpha': 0.0006072146963442712, 'subsample': 0.6413451754264953, 'colsample_bytree': 0.501201485469999}. Best is trial 73 with value: 0.14861812009000933.\n",
      "[I 2023-12-17 23:40:00,203] Trial 98 finished with value: 0.15566533540972818 and parameters: {'lambda': 0.055351121681950555, 'n_estimators': 100, 'max_depth': 10, 'alpha': 2.759930215431157e-07, 'subsample': 0.707589704771993, 'colsample_bytree': 0.5947657580988509}. Best is trial 73 with value: 0.14861812009000933.\n",
      "[I 2023-12-17 23:40:00,427] Trial 99 finished with value: 0.18805370250898854 and parameters: {'lambda': 0.7367110588385158, 'n_estimators': 100, 'max_depth': 9, 'alpha': 1.2119845005689748e-06, 'subsample': 0.5367569925493554, 'colsample_bytree': 0.5630508326662478}. Best is trial 73 with value: 0.14861812009000933.\n",
      "[I 2023-12-17 23:40:00,683] Trial 100 finished with value: 0.1494307259744805 and parameters: {'lambda': 0.09423617018312615, 'n_estimators': 100, 'max_depth': 10, 'alpha': 4.965717475100122e-05, 'subsample': 0.5153149412047291, 'colsample_bytree': 0.6411277653367308}. Best is trial 73 with value: 0.14861812009000933.\n",
      "[I 2023-12-17 23:40:00,954] Trial 101 finished with value: 0.163368573418702 and parameters: {'lambda': 0.24050412876193242, 'n_estimators': 100, 'max_depth': 10, 'alpha': 1.9414212050645404e-06, 'subsample': 0.5160663389747403, 'colsample_bytree': 0.7395377995335923}. Best is trial 73 with value: 0.14861812009000933.\n",
      "[I 2023-12-17 23:40:01,257] Trial 102 finished with value: 0.15446084219975065 and parameters: {'lambda': 0.10241452197011357, 'n_estimators': 100, 'max_depth': 10, 'alpha': 0.03503752174775831, 'subsample': 0.7881018394425084, 'colsample_bytree': 0.6165879165724792}. Best is trial 73 with value: 0.14861812009000933.\n",
      "[I 2023-12-17 23:40:01,383] Trial 103 finished with value: 0.1796562503683097 and parameters: {'lambda': 0.45400600388298007, 'n_estimators': 100, 'max_depth': 4, 'alpha': 5.018742648043001e-05, 'subsample': 0.45406503802338544, 'colsample_bytree': 0.6564036465090975}. Best is trial 73 with value: 0.14861812009000933.\n"
     ]
    },
    {
     "name": "stderr",
     "output_type": "stream",
     "text": [
      "[I 2023-12-17 23:40:01,659] Trial 104 finished with value: 0.16337505690408868 and parameters: {'lambda': 0.1624097657322554, 'n_estimators': 100, 'max_depth': 10, 'alpha': 1.318539530380577e-05, 'subsample': 0.5717821753543463, 'colsample_bytree': 0.867964417407469}. Best is trial 73 with value: 0.14861812009000933.\n",
      "[I 2023-12-17 23:40:01,941] Trial 105 finished with value: 0.1516118146231631 and parameters: {'lambda': 0.07529210987593404, 'n_estimators': 100, 'max_depth': 10, 'alpha': 4.704456191023482e-06, 'subsample': 0.49047760435715304, 'colsample_bytree': 0.6435698735576424}. Best is trial 73 with value: 0.14861812009000933.\n",
      "[I 2023-12-17 23:40:02,212] Trial 106 finished with value: 0.15899492495817732 and parameters: {'lambda': 0.0666435675024113, 'n_estimators': 100, 'max_depth': 10, 'alpha': 9.135514682374714e-06, 'subsample': 0.491221979353592, 'colsample_bytree': 0.7070682010302666}. Best is trial 73 with value: 0.14861812009000933.\n",
      "[I 2023-12-17 23:40:02,583] Trial 107 finished with value: 0.18375770573713443 and parameters: {'lambda': 0.01866081475473848, 'n_estimators': 100, 'max_depth': 10, 'alpha': 4.2020159347058674e-06, 'subsample': 0.6262493590726135, 'colsample_bytree': 0.6371843663003207}. Best is trial 73 with value: 0.14861812009000933.\n",
      "[I 2023-12-17 23:40:02,861] Trial 108 finished with value: 0.1538753227418323 and parameters: {'lambda': 0.11107311809001408, 'n_estimators': 100, 'max_depth': 10, 'alpha': 1.796013365261622e-05, 'subsample': 0.5074336088185908, 'colsample_bytree': 0.6674704659324202}. Best is trial 73 with value: 0.14861812009000933.\n",
      "[I 2023-12-17 23:40:03,057] Trial 109 finished with value: 0.19322926341023614 and parameters: {'lambda': 0.02930551173705928, 'n_estimators': 50, 'max_depth': 10, 'alpha': 7.154112036195011e-07, 'subsample': 0.5466679865821678, 'colsample_bytree': 0.6443339636416292}. Best is trial 73 with value: 0.14861812009000933.\n",
      "[I 2023-12-17 23:40:03,398] Trial 110 finished with value: 0.21488674573299543 and parameters: {'lambda': 0.007776035223345861, 'n_estimators': 100, 'max_depth': 10, 'alpha': 6.01714004808115e-06, 'subsample': 0.47678952905197913, 'colsample_bytree': 0.5921143237048341}. Best is trial 73 with value: 0.14861812009000933.\n",
      "[I 2023-12-17 23:40:03,718] Trial 111 finished with value: 0.15068473645696087 and parameters: {'lambda': 0.09160803511732327, 'n_estimators': 100, 'max_depth': 10, 'alpha': 1.8065982531737184e-05, 'subsample': 0.5085843568558325, 'colsample_bytree': 0.673871133597931}. Best is trial 73 with value: 0.14861812009000933.\n",
      "[I 2023-12-17 23:40:04,011] Trial 112 finished with value: 0.1533482634317751 and parameters: {'lambda': 0.08128513437084826, 'n_estimators': 100, 'max_depth': 10, 'alpha': 2.8842413502518887e-05, 'subsample': 0.5250038939858839, 'colsample_bytree': 0.7011252598622739}. Best is trial 73 with value: 0.14861812009000933.\n",
      "[I 2023-12-17 23:40:04,304] Trial 113 finished with value: 0.15725651030309448 and parameters: {'lambda': 0.049518629454867805, 'n_estimators': 100, 'max_depth': 10, 'alpha': 3.974562168499122e-05, 'subsample': 0.44150382486966533, 'colsample_bytree': 0.6793459795729577}. Best is trial 73 with value: 0.14861812009000933.\n",
      "[I 2023-12-17 23:40:04,592] Trial 114 finished with value: 0.15935921178650128 and parameters: {'lambda': 0.0743753788368476, 'n_estimators': 100, 'max_depth': 10, 'alpha': 8.159655550943768e-05, 'subsample': 0.4055610599446933, 'colsample_bytree': 0.797399434568146}. Best is trial 73 with value: 0.14861812009000933.\n",
      "[I 2023-12-17 23:40:04,830] Trial 115 finished with value: 0.1646311296675035 and parameters: {'lambda': 0.28109311341162974, 'n_estimators': 100, 'max_depth': 10, 'alpha': 0.00013588300484787045, 'subsample': 0.5313292863567419, 'colsample_bytree': 0.6139135164882297}. Best is trial 73 with value: 0.14861812009000933.\n",
      "[I 2023-12-17 23:40:04,942] Trial 116 finished with value: 0.235221781857832 and parameters: {'lambda': 0.014729576734382728, 'n_estimators': 20, 'max_depth': 9, 'alpha': 2.0951350527621994e-05, 'subsample': 0.5065372978415272, 'colsample_bytree': 0.7252264071542052}. Best is trial 73 with value: 0.14861812009000933.\n",
      "[I 2023-12-17 23:40:05,250] Trial 117 finished with value: 0.17264428771872123 and parameters: {'lambda': 0.03562194602089419, 'n_estimators': 100, 'max_depth': 10, 'alpha': 3.4323190287164833e-06, 'subsample': 0.4898810347946166, 'colsample_bytree': 0.7002513820399096}. Best is trial 73 with value: 0.14861812009000933.\n",
      "[I 2023-12-17 23:40:05,573] Trial 118 finished with value: 0.22876102639827692 and parameters: {'lambda': 0.00396425738063327, 'n_estimators': 100, 'max_depth': 10, 'alpha': 7.376511507517054e-06, 'subsample': 0.42300432877591737, 'colsample_bytree': 0.7586444154376576}. Best is trial 73 with value: 0.14861812009000933.\n",
      "[I 2023-12-17 23:40:05,651] Trial 119 finished with value: 0.2179560942592804 and parameters: {'lambda': 0.14865730003021563, 'n_estimators': 5, 'max_depth': 9, 'alpha': 2.1519019078583763e-06, 'subsample': 0.558238397817802, 'colsample_bytree': 0.736131844409214}. Best is trial 73 with value: 0.14861812009000933.\n",
      "[I 2023-12-17 23:40:05,974] Trial 120 finished with value: 0.24337160678720313 and parameters: {'lambda': 0.0009665808791722854, 'n_estimators': 100, 'max_depth': 10, 'alpha': 2.7988503264958973e-05, 'subsample': 0.5787328654552447, 'colsample_bytree': 0.6466478171051732}. Best is trial 73 with value: 0.14861812009000933.\n",
      "[I 2023-12-17 23:40:06,280] Trial 121 finished with value: 0.1578762954375683 and parameters: {'lambda': 0.10342167546310518, 'n_estimators': 100, 'max_depth': 10, 'alpha': 0.016168052799937792, 'subsample': 0.5997731477436744, 'colsample_bytree': 0.39353094937728383}. Best is trial 73 with value: 0.14861812009000933.\n",
      "[I 2023-12-17 23:40:06,557] Trial 122 finished with value: 0.15830440741000848 and parameters: {'lambda': 0.18613814063147388, 'n_estimators': 100, 'max_depth': 10, 'alpha': 1.5259342061197487e-06, 'subsample': 0.5221547725635506, 'colsample_bytree': 0.46976333244068746}. Best is trial 73 with value: 0.14861812009000933.\n",
      "[I 2023-12-17 23:40:06,831] Trial 123 finished with value: 0.15506315872170567 and parameters: {'lambda': 0.08830879555931338, 'n_estimators': 100, 'max_depth': 10, 'alpha': 9.64226168332101e-06, 'subsample': 0.6557362444959421, 'colsample_bytree': 0.5563762341293069}. Best is trial 73 with value: 0.14861812009000933.\n",
      "[I 2023-12-17 23:40:07,062] Trial 124 finished with value: 0.16037234498022518 and parameters: {'lambda': 0.35797704958051646, 'n_estimators': 100, 'max_depth': 9, 'alpha': 4.1469139306431425e-07, 'subsample': 0.5454030795995859, 'colsample_bytree': 0.5207067954419208}. Best is trial 73 with value: 0.14861812009000933.\n",
      "[I 2023-12-17 23:40:07,378] Trial 125 finished with value: 0.15875367761169737 and parameters: {'lambda': 0.05038807992121646, 'n_estimators': 100, 'max_depth': 10, 'alpha': 0.07220838846670137, 'subsample': 0.6871909478304132, 'colsample_bytree': 0.4474340216016433}. Best is trial 73 with value: 0.14861812009000933.\n",
      "[I 2023-12-17 23:40:07,533] Trial 126 finished with value: 0.18794046521269206 and parameters: {'lambda': 0.07437891216758534, 'n_estimators': 100, 'max_depth': 5, 'alpha': 9.549731804550776e-07, 'subsample': 0.731966086582858, 'colsample_bytree': 0.5753651294948177}. Best is trial 73 with value: 0.14861812009000933.\n",
      "[I 2023-12-17 23:40:07,779] Trial 127 finished with value: 0.15801340625784505 and parameters: {'lambda': 0.21470260434303645, 'n_estimators': 100, 'max_depth': 9, 'alpha': 5.328103716627943e-06, 'subsample': 0.6145486461855758, 'colsample_bytree': 0.6650633562354181}. Best is trial 73 with value: 0.14861812009000933.\n",
      "[I 2023-12-17 23:40:08,079] Trial 128 finished with value: 0.15403016851638993 and parameters: {'lambda': 0.1316957032708068, 'n_estimators': 100, 'max_depth': 10, 'alpha': 0.0097669215435206, 'subsample': 0.46559722005119114, 'colsample_bytree': 0.6255094847713759}. Best is trial 73 with value: 0.14861812009000933.\n",
      "[I 2023-12-17 23:40:08,350] Trial 129 finished with value: 0.17288383777036875 and parameters: {'lambda': 0.3019320325778123, 'n_estimators': 100, 'max_depth': 10, 'alpha': 1.3784131273218426e-05, 'subsample': 0.6444373573334811, 'colsample_bytree': 0.5364289870192815}. Best is trial 73 with value: 0.14861812009000933.\n"
     ]
    },
    {
     "name": "stderr",
     "output_type": "stream",
     "text": [
      "[I 2023-12-17 23:40:08,613] Trial 130 finished with value: 0.16672522430825992 and parameters: {'lambda': 0.5273334072180355, 'n_estimators': 100, 'max_depth': 10, 'alpha': 2.9297023385753737e-06, 'subsample': 0.6684039118162299, 'colsample_bytree': 0.5986314636286308}. Best is trial 73 with value: 0.14861812009000933.\n",
      "[I 2023-12-17 23:40:08,892] Trial 131 finished with value: 0.15108590504037583 and parameters: {'lambda': 0.13404259734163962, 'n_estimators': 100, 'max_depth': 10, 'alpha': 1.8952415903608107e-05, 'subsample': 0.5013560499541467, 'colsample_bytree': 0.6728178102215463}. Best is trial 73 with value: 0.14861812009000933.\n",
      "[I 2023-12-17 23:40:09,177] Trial 132 finished with value: 0.15110891254927517 and parameters: {'lambda': 0.11035924321280084, 'n_estimators': 100, 'max_depth': 10, 'alpha': 1.9339544330302138e-05, 'subsample': 0.5030257631594786, 'colsample_bytree': 0.4882205831620997}. Best is trial 73 with value: 0.14861812009000933.\n",
      "[I 2023-12-17 23:40:09,488] Trial 133 finished with value: 0.16370619328723462 and parameters: {'lambda': 0.048204551597728476, 'n_estimators': 100, 'max_depth': 10, 'alpha': 4.363901878353203e-05, 'subsample': 0.49457810168447935, 'colsample_bytree': 0.6926498979460404}. Best is trial 73 with value: 0.14861812009000933.\n",
      "[I 2023-12-17 23:40:09,771] Trial 134 finished with value: 0.14968881696399072 and parameters: {'lambda': 0.11073470461431936, 'n_estimators': 100, 'max_depth': 10, 'alpha': 2.904825288642169e-05, 'subsample': 0.5161898892799395, 'colsample_bytree': 0.2021976465944022}. Best is trial 73 with value: 0.14861812009000933.\n",
      "[I 2023-12-17 23:40:10,044] Trial 135 finished with value: 0.16378842471693209 and parameters: {'lambda': 0.18180590709761763, 'n_estimators': 100, 'max_depth': 10, 'alpha': 6.836873785640088e-05, 'subsample': 0.4583541511250034, 'colsample_bytree': 0.25563824282217634}. Best is trial 73 with value: 0.14861812009000933.\n",
      "[I 2023-12-17 23:40:10,319] Trial 136 finished with value: 0.16113098610473503 and parameters: {'lambda': 0.12861588730245338, 'n_estimators': 100, 'max_depth': 10, 'alpha': 1.705565928633003e-05, 'subsample': 0.48426667288733005, 'colsample_bytree': 0.20494973249479753}. Best is trial 73 with value: 0.14861812009000933.\n",
      "[I 2023-12-17 23:40:10,614] Trial 137 finished with value: 0.18132983911912937 and parameters: {'lambda': 0.02932112639797329, 'n_estimators': 100, 'max_depth': 10, 'alpha': 1.0345126977678023e-05, 'subsample': 0.5185921543059498, 'colsample_bytree': 0.2201161319584357}. Best is trial 73 with value: 0.14861812009000933.\n",
      "[I 2023-12-17 23:40:10,788] Trial 138 finished with value: 0.1695431439848719 and parameters: {'lambda': 0.24135714500700317, 'n_estimators': 50, 'max_depth': 9, 'alpha': 2.7279600092196357e-05, 'subsample': 0.5068421787105056, 'colsample_bytree': 0.28766057909227044}. Best is trial 73 with value: 0.14861812009000933.\n",
      "[I 2023-12-17 23:40:10,945] Trial 139 finished with value: 0.24998904842580666 and parameters: {'lambda': 8.550824180203214e-06, 'n_estimators': 20, 'max_depth': 10, 'alpha': 1.4060212165000794e-06, 'subsample': 0.5671929380543016, 'colsample_bytree': 0.4851943018865109}. Best is trial 73 with value: 0.14861812009000933.\n",
      "[I 2023-12-17 23:40:11,213] Trial 140 finished with value: 0.17077801393174477 and parameters: {'lambda': 0.4036315122587343, 'n_estimators': 100, 'max_depth': 10, 'alpha': 2.357465925877582e-06, 'subsample': 0.552201530037218, 'colsample_bytree': 0.5106595574555425}. Best is trial 73 with value: 0.14861812009000933.\n",
      "[I 2023-12-17 23:40:11,495] Trial 141 finished with value: 0.15975863472689153 and parameters: {'lambda': 0.08243888193261474, 'n_estimators': 100, 'max_depth': 10, 'alpha': 2.47084145843427e-05, 'subsample': 0.5282898876887774, 'colsample_bytree': 0.7207608860898924}. Best is trial 73 with value: 0.14861812009000933.\n",
      "[I 2023-12-17 23:40:11,813] Trial 142 finished with value: 0.1541607534207647 and parameters: {'lambda': 0.1092104715233654, 'n_estimators': 100, 'max_depth': 10, 'alpha': 3.607869072338994e-05, 'subsample': 0.47897782466317923, 'colsample_bytree': 0.6727321607660851}. Best is trial 73 with value: 0.14861812009000933.\n",
      "[I 2023-12-17 23:40:12,107] Trial 143 finished with value: 0.17640424427829343 and parameters: {'lambda': 0.06430786300818374, 'n_estimators': 100, 'max_depth': 10, 'alpha': 8.95667996554945e-05, 'subsample': 0.20377645759433238, 'colsample_bytree': 0.32971176543580666}. Best is trial 73 with value: 0.14861812009000933.\n",
      "[I 2023-12-17 23:40:12,402] Trial 144 finished with value: 0.15405112384197067 and parameters: {'lambda': 0.15636590479858783, 'n_estimators': 100, 'max_depth': 10, 'alpha': 5.261513536251535e-05, 'subsample': 0.941579820866513, 'colsample_bytree': 0.4209767630163606}. Best is trial 73 with value: 0.14861812009000933.\n",
      "[I 2023-12-17 23:40:12,679] Trial 145 finished with value: 0.16922740405878892 and parameters: {'lambda': 0.040195720525892514, 'n_estimators': 100, 'max_depth': 10, 'alpha': 4.410121754871186e-06, 'subsample': 0.5387685506815775, 'colsample_bytree': 0.31316505952019497}. Best is trial 73 with value: 0.14861812009000933.\n",
      "[I 2023-12-17 23:40:12,924] Trial 146 finished with value: 0.15726841761584537 and parameters: {'lambda': 0.09474500499730432, 'n_estimators': 100, 'max_depth': 9, 'alpha': 0.00014770913590346493, 'subsample': 0.5081040353191507, 'colsample_bytree': 0.4902286465578785}. Best is trial 73 with value: 0.14861812009000933.\n",
      "[I 2023-12-17 23:40:13,216] Trial 147 finished with value: 0.16136034944435176 and parameters: {'lambda': 0.21735615713684486, 'n_estimators': 100, 'max_depth': 10, 'alpha': 1.9102240188363218e-05, 'subsample': 0.4499922874578052, 'colsample_bytree': 0.6546945005275256}. Best is trial 73 with value: 0.14861812009000933.\n",
      "[I 2023-12-17 23:40:13,320] Trial 148 finished with value: 0.23571945773625566 and parameters: {'lambda': 0.06145288007595197, 'n_estimators': 5, 'max_depth': 10, 'alpha': 6.340128483560228e-07, 'subsample': 0.5881746666037059, 'colsample_bytree': 0.3589803732887955}. Best is trial 73 with value: 0.14861812009000933.\n",
      "[I 2023-12-17 23:40:13,629] Trial 149 finished with value: 0.1645118374189776 and parameters: {'lambda': 0.3237092821486985, 'n_estimators': 100, 'max_depth': 10, 'alpha': 7.561172418930664e-06, 'subsample': 0.49930697707343114, 'colsample_bytree': 0.6917484577565085}. Best is trial 73 with value: 0.14861812009000933.\n",
      "[I 2023-12-17 23:40:13,916] Trial 150 finished with value: 0.24999881649766123 and parameters: {'lambda': 2.068709442220425e-07, 'n_estimators': 100, 'max_depth': 9, 'alpha': 1.114474005160596e-05, 'subsample': 0.5287620423081637, 'colsample_bytree': 0.44833832076728997}. Best is trial 73 with value: 0.14861812009000933.\n",
      "[I 2023-12-17 23:40:14,194] Trial 151 finished with value: 0.15020912318093135 and parameters: {'lambda': 0.1366259001150492, 'n_estimators': 100, 'max_depth': 10, 'alpha': 9.75099342220999e-07, 'subsample': 0.47651016560411175, 'colsample_bytree': 0.5464597478513238}. Best is trial 73 with value: 0.14861812009000933.\n",
      "[I 2023-12-17 23:40:14,450] Trial 152 finished with value: 0.1463879099647712 and parameters: {'lambda': 0.13552081226937243, 'n_estimators': 100, 'max_depth': 10, 'alpha': 2.2983419849000427e-07, 'subsample': 0.48158525846940475, 'colsample_bytree': 0.551664762444741}. Best is trial 152 with value: 0.1463879099647712.\n",
      "[I 2023-12-17 23:40:14,740] Trial 153 finished with value: 0.15105028486214817 and parameters: {'lambda': 0.1348261870064778, 'n_estimators': 100, 'max_depth': 10, 'alpha': 2.670852517354858e-07, 'subsample': 0.4683815770639191, 'colsample_bytree': 0.5522610357596582}. Best is trial 152 with value: 0.1463879099647712.\n",
      "[I 2023-12-17 23:40:15,034] Trial 154 finished with value: 0.14445977259273768 and parameters: {'lambda': 0.17365478546492524, 'n_estimators': 100, 'max_depth': 10, 'alpha': 2.52796598573958e-07, 'subsample': 0.47611541600752666, 'colsample_bytree': 0.5459552872704537}. Best is trial 154 with value: 0.14445977259273768.\n",
      "[I 2023-12-17 23:40:15,294] Trial 155 finished with value: 0.1773386484351677 and parameters: {'lambda': 0.6558935506546907, 'n_estimators': 100, 'max_depth': 10, 'alpha': 1.913821318405198e-07, 'subsample': 0.4688453552000444, 'colsample_bytree': 0.5453327003026672}. Best is trial 154 with value: 0.14445977259273768.\n"
     ]
    },
    {
     "name": "stderr",
     "output_type": "stream",
     "text": [
      "[I 2023-12-17 23:40:15,558] Trial 156 finished with value: 0.16359094602938065 and parameters: {'lambda': 0.16722062145954952, 'n_estimators': 100, 'max_depth': 10, 'alpha': 1.0852893786953853e-07, 'subsample': 0.4266406623992286, 'colsample_bytree': 0.564150512878072}. Best is trial 154 with value: 0.14445977259273768.\n",
      "[I 2023-12-17 23:40:15,838] Trial 157 finished with value: 0.15502658200842637 and parameters: {'lambda': 0.25714883344024375, 'n_estimators': 100, 'max_depth': 10, 'alpha': 3.349162085116808e-07, 'subsample': 0.4428735615926115, 'colsample_bytree': 0.5283836791559972}. Best is trial 154 with value: 0.14445977259273768.\n",
      "[I 2023-12-17 23:40:16,113] Trial 158 finished with value: 0.14925668612847193 and parameters: {'lambda': 0.11956133898483588, 'n_estimators': 100, 'max_depth': 10, 'alpha': 2.839408172557773e-07, 'subsample': 0.47907610642259135, 'colsample_bytree': 0.5203719416088592}. Best is trial 154 with value: 0.14445977259273768.\n",
      "[I 2023-12-17 23:40:16,411] Trial 159 finished with value: 0.15233825128087577 and parameters: {'lambda': 0.11397256480472331, 'n_estimators': 100, 'max_depth': 10, 'alpha': 1.2120544420634827e-07, 'subsample': 0.4619973535475967, 'colsample_bytree': 0.5155759071960119}. Best is trial 154 with value: 0.14445977259273768.\n",
      "[I 2023-12-17 23:40:16,677] Trial 160 finished with value: 0.1558425071890101 and parameters: {'lambda': 0.15103797003201952, 'n_estimators': 100, 'max_depth': 10, 'alpha': 2.241415315194499e-07, 'subsample': 0.479709636712914, 'colsample_bytree': 0.5475536263370944}. Best is trial 154 with value: 0.14445977259273768.\n",
      "[I 2023-12-17 23:40:16,953] Trial 161 finished with value: 0.15995076420558454 and parameters: {'lambda': 0.10577075557289443, 'n_estimators': 100, 'max_depth': 10, 'alpha': 4.795919303209786e-08, 'subsample': 0.4616046442923154, 'colsample_bytree': 0.5041658836532102}. Best is trial 154 with value: 0.14445977259273768.\n",
      "[I 2023-12-17 23:40:17,229] Trial 162 finished with value: 0.16062866945561027 and parameters: {'lambda': 0.10150279247308444, 'n_estimators': 100, 'max_depth': 10, 'alpha': 3.195117983011519e-07, 'subsample': 0.4147507805260164, 'colsample_bytree': 0.5174230771516264}. Best is trial 154 with value: 0.14445977259273768.\n",
      "[I 2023-12-17 23:40:17,502] Trial 163 finished with value: 0.15409219706797372 and parameters: {'lambda': 0.2161859864322136, 'n_estimators': 100, 'max_depth': 10, 'alpha': 1.009976910905097e-07, 'subsample': 0.47616240082688693, 'colsample_bytree': 0.5320517542596588}. Best is trial 154 with value: 0.14445977259273768.\n",
      "[I 2023-12-17 23:40:17,770] Trial 164 finished with value: 0.15007363419043038 and parameters: {'lambda': 0.1344411040394209, 'n_estimators': 100, 'max_depth': 10, 'alpha': 4.566340394968173e-07, 'subsample': 0.4465441425337606, 'colsample_bytree': 0.5636385534823818}. Best is trial 154 with value: 0.14445977259273768.\n",
      "[I 2023-12-17 23:40:17,882] Trial 165 finished with value: 0.19016383826754155 and parameters: {'lambda': 0.4721370445078487, 'n_estimators': 100, 'max_depth': 3, 'alpha': 3.8491009058673335e-07, 'subsample': 0.491360445369238, 'colsample_bytree': 0.5688807347334703}. Best is trial 154 with value: 0.14445977259273768.\n",
      "[I 2023-12-17 23:40:18,137] Trial 166 finished with value: 0.16368523583474331 and parameters: {'lambda': 0.2824912439838999, 'n_estimators': 100, 'max_depth': 10, 'alpha': 9.648495603041355e-07, 'subsample': 0.49899199802640315, 'colsample_bytree': 0.5597453529567542}. Best is trial 154 with value: 0.14445977259273768.\n",
      "[I 2023-12-17 23:40:18,430] Trial 167 finished with value: 0.1580888424682326 and parameters: {'lambda': 0.05052744813084305, 'n_estimators': 100, 'max_depth': 10, 'alpha': 4.905471088781206e-07, 'subsample': 0.5149262598746933, 'colsample_bytree': 0.6045748055767433}. Best is trial 154 with value: 0.14445977259273768.\n",
      "[I 2023-12-17 23:40:18,670] Trial 168 finished with value: 0.16042902143238794 and parameters: {'lambda': 0.147620881113021, 'n_estimators': 100, 'max_depth': 9, 'alpha': 1.4925857613371365e-07, 'subsample': 0.4516040545585179, 'colsample_bytree': 0.5798053888742023}. Best is trial 154 with value: 0.14445977259273768.\n",
      "[I 2023-12-17 23:40:18,959] Trial 169 finished with value: 0.1483244561805288 and parameters: {'lambda': 0.07058973300910565, 'n_estimators': 100, 'max_depth': 10, 'alpha': 8.12268697667961e-07, 'subsample': 0.43357064182457616, 'colsample_bytree': 0.5397757006539002}. Best is trial 154 with value: 0.14445977259273768.\n",
      "[I 2023-12-17 23:40:19,156] Trial 170 finished with value: 0.19341710145302457 and parameters: {'lambda': 0.0354489895379184, 'n_estimators': 50, 'max_depth': 10, 'alpha': 2.4197408925241555e-07, 'subsample': 0.3887426978367261, 'colsample_bytree': 0.5444504260377222}. Best is trial 154 with value: 0.14445977259273768.\n",
      "[I 2023-12-17 23:40:19,437] Trial 171 finished with value: 0.16065374065053137 and parameters: {'lambda': 0.07914005074608471, 'n_estimators': 100, 'max_depth': 10, 'alpha': 5.08370287601738e-07, 'subsample': 0.4284088703422139, 'colsample_bytree': 0.5533850444453337}. Best is trial 154 with value: 0.14445977259273768.\n",
      "[I 2023-12-17 23:40:19,695] Trial 172 finished with value: 0.1476303818519959 and parameters: {'lambda': 0.14398264741239641, 'n_estimators': 100, 'max_depth': 10, 'alpha': 1.039871192507679e-06, 'subsample': 0.47535538095775165, 'colsample_bytree': 0.5327827670978579}. Best is trial 154 with value: 0.14445977259273768.\n",
      "[I 2023-12-17 23:40:19,982] Trial 173 finished with value: 0.1578650244204357 and parameters: {'lambda': 0.06356713515858234, 'n_estimators': 100, 'max_depth': 10, 'alpha': 7.184293027352192e-07, 'subsample': 0.43422850617344383, 'colsample_bytree': 0.6317677916962685}. Best is trial 154 with value: 0.14445977259273768.\n",
      "[I 2023-12-17 23:40:20,259] Trial 174 finished with value: 0.1585175746826235 and parameters: {'lambda': 0.12238873663406069, 'n_estimators': 100, 'max_depth': 10, 'alpha': 9.633627011466016e-07, 'subsample': 0.4054019090492182, 'colsample_bytree': 0.5884039451900014}. Best is trial 154 with value: 0.14445977259273768.\n",
      "[I 2023-12-17 23:40:20,529] Trial 175 finished with value: 0.1541225008969045 and parameters: {'lambda': 0.1966464282006889, 'n_estimators': 100, 'max_depth': 10, 'alpha': 2.9977706785932954e-07, 'subsample': 0.47481730558339813, 'colsample_bytree': 0.5307215240364681}. Best is trial 154 with value: 0.14445977259273768.\n",
      "[I 2023-12-17 23:40:20,823] Trial 176 finished with value: 0.24961576705127594 and parameters: {'lambda': 6.186893484731596e-05, 'n_estimators': 100, 'max_depth': 10, 'alpha': 1.1598798911339592e-06, 'subsample': 0.44619941713631744, 'colsample_bytree': 0.49594208723773947}. Best is trial 154 with value: 0.14445977259273768.\n",
      "[I 2023-12-17 23:40:20,949] Trial 177 finished with value: 0.19788457134868065 and parameters: {'lambda': 0.08109893413275947, 'n_estimators': 20, 'max_depth': 10, 'alpha': 1.867489225734472e-07, 'subsample': 0.48076515579618007, 'colsample_bytree': 0.6112974471182309}. Best is trial 154 with value: 0.14445977259273768.\n",
      "[I 2023-12-17 23:40:21,169] Trial 178 finished with value: 0.16896083934300912 and parameters: {'lambda': 0.35713351997310316, 'n_estimators': 100, 'max_depth': 9, 'alpha': 4.386241220428037e-07, 'subsample': 0.49698745041484704, 'colsample_bytree': 0.5710906885033263}. Best is trial 154 with value: 0.14445977259273768.\n",
      "[I 2023-12-17 23:40:21,437] Trial 179 finished with value: 0.1652069767679408 and parameters: {'lambda': 0.04797786521452533, 'n_estimators': 100, 'max_depth': 10, 'alpha': 6.27888472347484e-07, 'subsample': 0.46250741519010347, 'colsample_bytree': 0.48025792781447296}. Best is trial 154 with value: 0.14445977259273768.\n",
      "[I 2023-12-17 23:40:21,689] Trial 180 finished with value: 0.15256133382192408 and parameters: {'lambda': 0.13345662984146608, 'n_estimators': 100, 'max_depth': 10, 'alpha': 2.7171356874911945e-07, 'subsample': 0.44222365722517915, 'colsample_bytree': 0.5403091961972548}. Best is trial 154 with value: 0.14445977259273768.\n",
      "[I 2023-12-17 23:40:21,966] Trial 181 finished with value: 0.15917373333532372 and parameters: {'lambda': 0.19873089529752574, 'n_estimators': 100, 'max_depth': 10, 'alpha': 1.7282573999790267e-06, 'subsample': 0.49255681441910665, 'colsample_bytree': 0.5067448085486159}. Best is trial 154 with value: 0.14445977259273768.\n"
     ]
    },
    {
     "name": "stderr",
     "output_type": "stream",
     "text": [
      "[I 2023-12-17 23:40:22,261] Trial 182 finished with value: 0.15397031669102829 and parameters: {'lambda': 0.10820256542245892, 'n_estimators': 100, 'max_depth': 10, 'alpha': 1.2789928811492521e-06, 'subsample': 0.5073186653852989, 'colsample_bytree': 0.5269482640131296}. Best is trial 154 with value: 0.14445977259273768.\n",
      "[I 2023-12-17 23:40:22,571] Trial 183 finished with value: 0.15930587265826618 and parameters: {'lambda': 0.167443740535258, 'n_estimators': 100, 'max_depth': 10, 'alpha': 3.072240058759729e-06, 'subsample': 0.4750157673052554, 'colsample_bytree': 0.5549862582146099}. Best is trial 154 with value: 0.14445977259273768.\n",
      "[I 2023-12-17 23:40:22,839] Trial 184 finished with value: 0.16806945351827404 and parameters: {'lambda': 0.2713167374215568, 'n_estimators': 100, 'max_depth': 10, 'alpha': 7.962531998422197e-07, 'subsample': 0.5160178178500822, 'colsample_bytree': 0.5896845513536172}. Best is trial 154 with value: 0.14445977259273768.\n",
      "[I 2023-12-17 23:40:23,124] Trial 185 finished with value: 0.15643428264821613 and parameters: {'lambda': 0.07344243785014322, 'n_estimators': 100, 'max_depth': 10, 'alpha': 4.331407906609418e-07, 'subsample': 0.38779535933038634, 'colsample_bytree': 0.5196958821911044}. Best is trial 154 with value: 0.14445977259273768.\n",
      "[I 2023-12-17 23:40:23,182] Trial 186 finished with value: 0.24772747993412222 and parameters: {'lambda': 0.15278810809909796, 'n_estimators': 5, 'max_depth': 2, 'alpha': 1.5344518868588242e-07, 'subsample': 0.45479363543730555, 'colsample_bytree': 0.5418341913033788}. Best is trial 154 with value: 0.14445977259273768.\n",
      "[I 2023-12-17 23:40:23,474] Trial 187 finished with value: 0.15662314968992921 and parameters: {'lambda': 0.0877667456002827, 'n_estimators': 100, 'max_depth': 10, 'alpha': 1.9853986820851105e-06, 'subsample': 0.4887103967056705, 'colsample_bytree': 0.5697532014830553}. Best is trial 154 with value: 0.14445977259273768.\n",
      "[I 2023-12-17 23:40:23,795] Trial 188 finished with value: 0.1634501924419121 and parameters: {'lambda': 0.23746014070552598, 'n_estimators': 100, 'max_depth': 10, 'alpha': 1.3429233346441474e-06, 'subsample': 0.4664079175357597, 'colsample_bytree': 0.49727734193963724}. Best is trial 154 with value: 0.14445977259273768.\n",
      "[I 2023-12-17 23:40:24,112] Trial 189 finished with value: 0.15907168702534563 and parameters: {'lambda': 0.0539520482201261, 'n_estimators': 100, 'max_depth': 10, 'alpha': 5.581134335790645e-07, 'subsample': 0.34270293451132067, 'colsample_bytree': 0.8248622213361914}. Best is trial 154 with value: 0.14445977259273768.\n",
      "[I 2023-12-17 23:40:24,437] Trial 190 finished with value: 0.24667723644301467 and parameters: {'lambda': 0.0005017950934634721, 'n_estimators': 100, 'max_depth': 10, 'alpha': 5.971094072815539e-06, 'subsample': 0.5366623546092192, 'colsample_bytree': 0.5583410649112283}. Best is trial 154 with value: 0.14445977259273768.\n",
      "[I 2023-12-17 23:40:24,723] Trial 191 finished with value: 0.15053205733654518 and parameters: {'lambda': 0.11077454725411319, 'n_estimators': 100, 'max_depth': 10, 'alpha': 1.2375941781549452e-07, 'subsample': 0.46288272305993416, 'colsample_bytree': 0.5132079434813007}. Best is trial 154 with value: 0.14445977259273768.\n",
      "[I 2023-12-17 23:40:25,000] Trial 192 finished with value: 0.153779537559651 and parameters: {'lambda': 0.10408849558811425, 'n_estimators': 100, 'max_depth': 10, 'alpha': 6.699634204641814e-08, 'subsample': 0.4189381165775205, 'colsample_bytree': 0.512795746899131}. Best is trial 154 with value: 0.14445977259273768.\n",
      "[I 2023-12-17 23:40:25,277] Trial 193 finished with value: 0.15192837770225515 and parameters: {'lambda': 0.1435770937791813, 'n_estimators': 100, 'max_depth': 10, 'alpha': 1.912470958473003e-08, 'subsample': 0.48775308918768734, 'colsample_bytree': 0.47320588691862603}. Best is trial 154 with value: 0.14445977259273768.\n",
      "[I 2023-12-17 23:40:25,577] Trial 194 finished with value: 0.1597185711761569 and parameters: {'lambda': 0.12515075338611464, 'n_estimators': 100, 'max_depth': 10, 'alpha': 2.1315355407297446e-07, 'subsample': 0.49203741242770066, 'colsample_bytree': 0.4742661626014744}. Best is trial 154 with value: 0.14445977259273768.\n",
      "[I 2023-12-17 23:40:25,891] Trial 195 finished with value: 0.15989345147884734 and parameters: {'lambda': 0.07038326534980212, 'n_estimators': 100, 'max_depth': 10, 'alpha': 1.2975205713778855e-08, 'subsample': 0.4381939725219061, 'colsample_bytree': 0.9390507173562133}. Best is trial 154 with value: 0.14445977259273768.\n",
      "[I 2023-12-17 23:40:26,096] Trial 196 finished with value: 0.17189362434759523 and parameters: {'lambda': 0.17418471746757644, 'n_estimators': 100, 'max_depth': 6, 'alpha': 5.454259734026675e-08, 'subsample': 0.46874465183119784, 'colsample_bytree': 0.5374675449002143}. Best is trial 154 with value: 0.14445977259273768.\n",
      "[I 2023-12-17 23:40:26,380] Trial 197 finished with value: 0.1741282845737984 and parameters: {'lambda': 0.3670735860302764, 'n_estimators': 100, 'max_depth': 10, 'alpha': 3.888492626260747e-08, 'subsample': 0.5072382670825469, 'colsample_bytree': 0.45981956719254247}. Best is trial 154 with value: 0.14445977259273768.\n",
      "[I 2023-12-17 23:40:26,665] Trial 198 finished with value: 0.16860502893864193 and parameters: {'lambda': 0.03716492106404987, 'n_estimators': 100, 'max_depth': 10, 'alpha': 2.5936820297376272e-08, 'subsample': 0.4817443936666777, 'colsample_bytree': 0.4912688205309853}. Best is trial 154 with value: 0.14445977259273768.\n",
      "[I 2023-12-17 23:40:26,953] Trial 199 finished with value: 0.15976207194025455 and parameters: {'lambda': 0.09371384174797584, 'n_estimators': 100, 'max_depth': 10, 'alpha': 3.5029480933841515e-07, 'subsample': 0.4520936453718255, 'colsample_bytree': 0.6505652475653512}. Best is trial 154 with value: 0.14445977259273768.\n",
      "[I 2023-12-17 23:40:27,276] Trial 200 finished with value: 0.16323017026194753 and parameters: {'lambda': 0.21407181543442458, 'n_estimators': 100, 'max_depth': 10, 'alpha': 1.3646931104665052e-07, 'subsample': 0.5199593243811456, 'colsample_bytree': 0.5051641097432398}. Best is trial 154 with value: 0.14445977259273768.\n",
      "[I 2023-12-17 23:40:27,552] Trial 201 finished with value: 0.1512588853480537 and parameters: {'lambda': 0.13793052947494785, 'n_estimators': 100, 'max_depth': 10, 'alpha': 1.6160290991577383e-05, 'subsample': 0.49208084502728033, 'colsample_bytree': 0.5251399263141587}. Best is trial 154 with value: 0.14445977259273768.\n",
      "[I 2023-12-17 23:40:27,822] Trial 202 finished with value: 0.15006455740565558 and parameters: {'lambda': 0.1328122297703903, 'n_estimators': 100, 'max_depth': 10, 'alpha': 1.6091042766509242e-05, 'subsample': 0.49906341336694515, 'colsample_bytree': 0.5261159351078073}. Best is trial 154 with value: 0.14445977259273768.\n",
      "[I 2023-12-17 23:40:28,141] Trial 203 finished with value: 0.15440546970700655 and parameters: {'lambda': 0.060837570854605026, 'n_estimators': 100, 'max_depth': 10, 'alpha': 1.5322905561856618e-05, 'subsample': 0.5018939224664463, 'colsample_bytree': 0.5307404708464584}. Best is trial 154 with value: 0.14445977259273768.\n",
      "[I 2023-12-17 23:40:28,427] Trial 204 finished with value: 0.1539400811791864 and parameters: {'lambda': 0.11474180033982115, 'n_estimators': 100, 'max_depth': 10, 'alpha': 2.2316099114952575e-05, 'subsample': 0.4700233888586796, 'colsample_bytree': 0.5570049305077253}. Best is trial 154 with value: 0.14445977259273768.\n",
      "[I 2023-12-17 23:40:28,710] Trial 205 finished with value: 0.1590039887323667 and parameters: {'lambda': 0.08548232628460083, 'n_estimators': 100, 'max_depth': 10, 'alpha': 3.837158624268572e-05, 'subsample': 0.5128217302289712, 'colsample_bytree': 0.5435478325591435}. Best is trial 154 with value: 0.14445977259273768.\n",
      "[I 2023-12-17 23:40:28,962] Trial 206 finished with value: 0.16460540358574535 and parameters: {'lambda': 0.28181202026562624, 'n_estimators': 100, 'max_depth': 10, 'alpha': 1.35828345878825e-05, 'subsample': 0.4561791617765285, 'colsample_bytree': 0.5793440423723031}. Best is trial 154 with value: 0.14445977259273768.\n",
      "[I 2023-12-17 23:40:29,238] Trial 207 finished with value: 0.1516222266391465 and parameters: {'lambda': 0.15420537985856247, 'n_estimators': 100, 'max_depth': 10, 'alpha': 5.665743253495009e-05, 'subsample': 0.48755411329479337, 'colsample_bytree': 0.5153635492824827}. Best is trial 154 with value: 0.14445977259273768.\n"
     ]
    },
    {
     "name": "stderr",
     "output_type": "stream",
     "text": [
      "[I 2023-12-17 23:40:29,519] Trial 208 finished with value: 0.16340923781424715 and parameters: {'lambda': 0.16271050098472845, 'n_estimators': 100, 'max_depth': 10, 'alpha': 5.1649728808854216e-05, 'subsample': 0.48612330203298815, 'colsample_bytree': 0.5170096229154914}. Best is trial 154 with value: 0.14445977259273768.\n",
      "[I 2023-12-17 23:40:29,669] Trial 209 finished with value: 0.1607782528650873 and parameters: {'lambda': 0.22060095199961852, 'n_estimators': 50, 'max_depth': 9, 'alpha': 2.7295680462159884e-05, 'subsample': 0.5285825321081101, 'colsample_bytree': 0.5267280066255259}. Best is trial 154 with value: 0.14445977259273768.\n",
      "[I 2023-12-17 23:40:29,942] Trial 210 finished with value: 0.14967530364266182 and parameters: {'lambda': 0.1287887461703333, 'n_estimators': 100, 'max_depth': 10, 'alpha': 6.99805137669595e-05, 'subsample': 0.5017886586339784, 'colsample_bytree': 0.6738220300487808}. Best is trial 154 with value: 0.14445977259273768.\n",
      "[I 2023-12-17 23:40:30,214] Trial 211 finished with value: 0.15520555752057313 and parameters: {'lambda': 0.14949335941009084, 'n_estimators': 100, 'max_depth': 10, 'alpha': 8.994276685811641e-05, 'subsample': 0.49914322143483036, 'colsample_bytree': 0.6804744852212209}. Best is trial 154 with value: 0.14445977259273768.\n",
      "[I 2023-12-17 23:40:30,492] Trial 212 finished with value: 0.14851257918111815 and parameters: {'lambda': 0.12048972625669378, 'n_estimators': 100, 'max_depth': 10, 'alpha': 6.98128717596436e-05, 'subsample': 0.46614313299398674, 'colsample_bytree': 0.6716799433611298}. Best is trial 154 with value: 0.14445977259273768.\n",
      "[I 2023-12-17 23:40:30,759] Trial 213 finished with value: 0.15809915655370907 and parameters: {'lambda': 0.1056247546243509, 'n_estimators': 100, 'max_depth': 10, 'alpha': 0.00012732987384673437, 'subsample': 0.4680476684234583, 'colsample_bytree': 0.6658448720987321}. Best is trial 154 with value: 0.14445977259273768.\n",
      "[I 2023-12-17 23:40:31,039] Trial 214 finished with value: 0.1572558414040328 and parameters: {'lambda': 0.07200482274197652, 'n_estimators': 100, 'max_depth': 10, 'alpha': 6.302138066195574e-05, 'subsample': 0.445370022133177, 'colsample_bytree': 0.6729000235563075}. Best is trial 154 with value: 0.14445977259273768.\n",
      "[I 2023-12-17 23:40:31,318] Trial 215 finished with value: 0.15273041726829564 and parameters: {'lambda': 0.11584669373820083, 'n_estimators': 100, 'max_depth': 10, 'alpha': 1.8782555296296417e-05, 'subsample': 0.5143994727020805, 'colsample_bytree': 0.6908720744326947}. Best is trial 154 with value: 0.14445977259273768.\n",
      "[I 2023-12-17 23:40:31,459] Trial 216 finished with value: 0.21361056023162778 and parameters: {'lambda': 0.04754117516743522, 'n_estimators': 20, 'max_depth': 10, 'alpha': 1.0547239971159339e-05, 'subsample': 0.4762842411618658, 'colsample_bytree': 0.7110051723986652}. Best is trial 154 with value: 0.14445977259273768.\n",
      "[I 2023-12-17 23:40:31,777] Trial 217 finished with value: 0.23983268435291535 and parameters: {'lambda': 0.001598743422334748, 'n_estimators': 100, 'max_depth': 10, 'alpha': 3.795551128756208e-05, 'subsample': 0.5007215328386635, 'colsample_bytree': 0.6456345220352112}. Best is trial 154 with value: 0.14445977259273768.\n",
      "[I 2023-12-17 23:40:32,063] Trial 218 finished with value: 0.16481977492642072 and parameters: {'lambda': 0.24850035449775576, 'n_estimators': 100, 'max_depth': 10, 'alpha': 2.3802086896380496e-05, 'subsample': 0.43567275750272805, 'colsample_bytree': 0.6256199397870634}. Best is trial 154 with value: 0.14445977259273768.\n",
      "[I 2023-12-17 23:40:32,349] Trial 219 finished with value: 0.1594449078062975 and parameters: {'lambda': 0.07569905388758197, 'n_estimators': 100, 'max_depth': 10, 'alpha': 0.00033066673302386125, 'subsample': 0.4632903933380814, 'colsample_bytree': 0.5536699262670702}. Best is trial 154 with value: 0.14445977259273768.\n",
      "[I 2023-12-17 23:40:32,609] Trial 220 finished with value: 0.1734381996031272 and parameters: {'lambda': 0.37256047141523335, 'n_estimators': 100, 'max_depth': 10, 'alpha': 7.541668295357872e-05, 'subsample': 0.539999118869038, 'colsample_bytree': 0.6774130885203}. Best is trial 154 with value: 0.14445977259273768.\n",
      "[I 2023-12-17 23:40:32,878] Trial 221 finished with value: 0.15391279233531358 and parameters: {'lambda': 0.16773901116378392, 'n_estimators': 100, 'max_depth': 10, 'alpha': 4.10315953728851e-05, 'subsample': 0.4862517259704369, 'colsample_bytree': 0.5353479647286619}. Best is trial 154 with value: 0.14445977259273768.\n",
      "[I 2023-12-17 23:40:33,172] Trial 222 finished with value: 0.14971433087274394 and parameters: {'lambda': 0.11982640911183422, 'n_estimators': 100, 'max_depth': 10, 'alpha': 5.3371911700936806e-05, 'subsample': 0.4826184474055888, 'colsample_bytree': 0.506354770276387}. Best is trial 154 with value: 0.14445977259273768.\n",
      "[I 2023-12-17 23:40:33,446] Trial 223 finished with value: 0.14861609558448796 and parameters: {'lambda': 0.11601919450099317, 'n_estimators': 100, 'max_depth': 10, 'alpha': 3.123691895280974e-05, 'subsample': 0.5010378207993923, 'colsample_bytree': 0.6573949811216685}. Best is trial 154 with value: 0.14445977259273768.\n",
      "[I 2023-12-17 23:40:33,766] Trial 224 finished with value: 0.15667149241486622 and parameters: {'lambda': 0.11973775303720477, 'n_estimators': 100, 'max_depth': 10, 'alpha': 3.120145362300606e-05, 'subsample': 0.5210589988525188, 'colsample_bytree': 0.6575648516753171}. Best is trial 154 with value: 0.14445977259273768.\n",
      "[I 2023-12-17 23:40:34,052] Trial 225 finished with value: 0.15883807107009415 and parameters: {'lambda': 0.1859226518435432, 'n_estimators': 100, 'max_depth': 10, 'alpha': 5.3797379334337386e-05, 'subsample': 0.5015907494134247, 'colsample_bytree': 0.49723373635646545}. Best is trial 154 with value: 0.14445977259273768.\n",
      "[I 2023-12-17 23:40:34,336] Trial 226 finished with value: 0.1560724233024661 and parameters: {'lambda': 0.11141660276215286, 'n_estimators': 100, 'max_depth': 10, 'alpha': 1.8595382959371053e-05, 'subsample': 0.47414978645323225, 'colsample_bytree': 0.5054943359640571}. Best is trial 154 with value: 0.14445977259273768.\n",
      "[I 2023-12-17 23:40:34,434] Trial 227 finished with value: 0.21364007588014197 and parameters: {'lambda': 0.2900592409974609, 'n_estimators': 5, 'max_depth': 10, 'alpha': 9.7572046072112e-05, 'subsample': 0.45665444346293915, 'colsample_bytree': 0.5384444760226372}. Best is trial 154 with value: 0.14445977259273768.\n",
      "[I 2023-12-17 23:40:34,704] Trial 228 finished with value: 0.1596592875027777 and parameters: {'lambda': 0.20636556325879252, 'n_estimators': 100, 'max_depth': 10, 'alpha': 2.5624904576811426e-07, 'subsample': 0.5150608601778415, 'colsample_bytree': 0.48871507766399325}. Best is trial 154 with value: 0.14445977259273768.\n",
      "[I 2023-12-17 23:40:34,991] Trial 229 finished with value: 0.15249940355189726 and parameters: {'lambda': 0.09485856563670857, 'n_estimators': 100, 'max_depth': 10, 'alpha': 2.5656634565064814e-05, 'subsample': 0.47781247210000605, 'colsample_bytree': 0.5631608774029981}. Best is trial 154 with value: 0.14445977259273768.\n",
      "[I 2023-12-17 23:40:35,301] Trial 230 finished with value: 0.15506441470194718 and parameters: {'lambda': 0.13275673372377514, 'n_estimators': 100, 'max_depth': 10, 'alpha': 3.321828944583978e-05, 'subsample': 0.5074731032894726, 'colsample_bytree': 0.524087845759336}. Best is trial 154 with value: 0.14445977259273768.\n",
      "[I 2023-12-17 23:40:35,604] Trial 231 finished with value: 0.15709556432101174 and parameters: {'lambda': 0.061329070540918434, 'n_estimators': 100, 'max_depth': 10, 'alpha': 1.3589921182141927e-05, 'subsample': 0.4949569656607761, 'colsample_bytree': 0.6365545270998583}. Best is trial 154 with value: 0.14445977259273768.\n",
      "[I 2023-12-17 23:40:35,893] Trial 232 finished with value: 0.15475488341128452 and parameters: {'lambda': 0.0820805614834432, 'n_estimators': 100, 'max_depth': 10, 'alpha': 6.99374084971829e-05, 'subsample': 0.4842646658225547, 'colsample_bytree': 0.686856851916287}. Best is trial 154 with value: 0.14445977259273768.\n",
      "[I 2023-12-17 23:40:36,176] Trial 233 finished with value: 0.15687243533288128 and parameters: {'lambda': 0.14282609076300604, 'n_estimators': 100, 'max_depth': 10, 'alpha': 8.050570882534099e-06, 'subsample': 0.45606275809167585, 'colsample_bytree': 0.6640818684262692}. Best is trial 154 with value: 0.14445977259273768.\n"
     ]
    },
    {
     "name": "stderr",
     "output_type": "stream",
     "text": [
      "[I 2023-12-17 23:40:36,458] Trial 234 finished with value: 0.15159858779931612 and parameters: {'lambda': 0.09753725893712403, 'n_estimators': 100, 'max_depth': 10, 'alpha': 0.00016441548039180075, 'subsample': 0.4996513812520804, 'colsample_bytree': 0.6538850262322278}. Best is trial 154 with value: 0.14445977259273768.\n",
      "[I 2023-12-17 23:40:36,734] Trial 235 finished with value: 0.15169857831028033 and parameters: {'lambda': 0.2011901068711048, 'n_estimators': 100, 'max_depth': 10, 'alpha': 4.4792036901199945e-05, 'subsample': 0.524198568839399, 'colsample_bytree': 0.6583637752411794}. Best is trial 154 with value: 0.14445977259273768.\n",
      "[I 2023-12-17 23:40:37,018] Trial 236 finished with value: 0.15049794023952437 and parameters: {'lambda': 0.10840222027167698, 'n_estimators': 100, 'max_depth': 10, 'alpha': 0.00019433967337692795, 'subsample': 0.4987612706746434, 'colsample_bytree': 0.5127551541947616}. Best is trial 154 with value: 0.14445977259273768.\n",
      "[I 2023-12-17 23:40:37,293] Trial 237 finished with value: 0.16026311042770083 and parameters: {'lambda': 0.13604370257791404, 'n_estimators': 100, 'max_depth': 10, 'alpha': 3.9313224514041796e-07, 'subsample': 0.46799268335534344, 'colsample_bytree': 0.5465329499663151}. Best is trial 154 with value: 0.14445977259273768.\n",
      "[I 2023-12-17 23:40:37,629] Trial 238 finished with value: 0.16173330681738643 and parameters: {'lambda': 0.050046405718699324, 'n_estimators': 100, 'max_depth': 10, 'alpha': 0.6288168109654065, 'subsample': 0.5499965816534965, 'colsample_bytree': 0.510749446473288}. Best is trial 154 with value: 0.14445977259273768.\n",
      "[I 2023-12-17 23:40:37,896] Trial 239 finished with value: 0.1575840447955722 and parameters: {'lambda': 0.2184278506325302, 'n_estimators': 100, 'max_depth': 10, 'alpha': 1.8004647956139074e-07, 'subsample': 0.4334579983465563, 'colsample_bytree': 0.5208998821773604}. Best is trial 154 with value: 0.14445977259273768.\n",
      "[I 2023-12-17 23:40:38,183] Trial 240 finished with value: 0.1530139782002543 and parameters: {'lambda': 0.10086988695142264, 'n_estimators': 100, 'max_depth': 10, 'alpha': 1.9061581598612958e-05, 'subsample': 0.5310557280139138, 'colsample_bytree': 0.5385133220993934}. Best is trial 154 with value: 0.14445977259273768.\n",
      "[I 2023-12-17 23:40:38,497] Trial 241 finished with value: 0.15677862424335035 and parameters: {'lambda': 0.09464268862728194, 'n_estimators': 100, 'max_depth': 10, 'alpha': 0.00013185468389989566, 'subsample': 0.5015865531575782, 'colsample_bytree': 0.7034180212409658}. Best is trial 154 with value: 0.14445977259273768.\n",
      "[I 2023-12-17 23:40:38,635] Trial 242 finished with value: 0.18617156417792394 and parameters: {'lambda': 0.13984181219308336, 'n_estimators': 100, 'max_depth': 4, 'alpha': 0.00015750039501647502, 'subsample': 0.4859789017078552, 'colsample_bytree': 0.48475257150004625}. Best is trial 154 with value: 0.14445977259273768.\n",
      "[I 2023-12-17 23:40:38,941] Trial 243 finished with value: 0.15878749083782617 and parameters: {'lambda': 0.06752090893103284, 'n_estimators': 100, 'max_depth': 10, 'alpha': 8.863234986758293e-05, 'subsample': 0.510731359332395, 'colsample_bytree': 0.6775446961380232}. Best is trial 154 with value: 0.14445977259273768.\n",
      "[I 2023-12-17 23:40:39,236] Trial 244 finished with value: 0.15446966443354748 and parameters: {'lambda': 0.11586267843345073, 'n_estimators': 100, 'max_depth': 10, 'alpha': 0.0002056251923997056, 'subsample': 0.46986865264227534, 'colsample_bytree': 0.5522128991153162}. Best is trial 154 with value: 0.14445977259273768.\n",
      "[I 2023-12-17 23:40:39,543] Trial 245 finished with value: 0.1548293609419581 and parameters: {'lambda': 0.16893875755235305, 'n_estimators': 100, 'max_depth': 10, 'alpha': 1.0199307411843503e-07, 'subsample': 0.4975172817961755, 'colsample_bytree': 0.5062722407636365}. Best is trial 154 with value: 0.14445977259273768.\n",
      "[I 2023-12-17 23:40:39,841] Trial 246 finished with value: 0.15916004662330274 and parameters: {'lambda': 0.08730657395900004, 'n_estimators': 100, 'max_depth': 10, 'alpha': 3.027982653334748e-07, 'subsample': 0.4485164902425115, 'colsample_bytree': 0.5287881488272675}. Best is trial 154 with value: 0.14445977259273768.\n",
      "[I 2023-12-17 23:40:40,177] Trial 247 finished with value: 0.24999992416066336 and parameters: {'lambda': 1.1928080825508437e-08, 'n_estimators': 100, 'max_depth': 10, 'alpha': 3.287456781328397e-05, 'subsample': 0.4819887004377326, 'colsample_bytree': 0.5656320085213509}. Best is trial 154 with value: 0.14445977259273768.\n",
      "[I 2023-12-17 23:40:40,468] Trial 248 finished with value: 0.1496662216996558 and parameters: {'lambda': 0.2738984312716885, 'n_estimators': 100, 'max_depth': 10, 'alpha': 6.569269078709957e-05, 'subsample': 0.512224224835993, 'colsample_bytree': 0.520300313785539}. Best is trial 154 with value: 0.14445977259273768.\n",
      "[I 2023-12-17 23:40:40,731] Trial 249 finished with value: 0.17490766562408824 and parameters: {'lambda': 0.3622787490223197, 'n_estimators': 100, 'max_depth': 10, 'alpha': 5.7414849720283295e-05, 'subsample': 0.5284414596432102, 'colsample_bytree': 0.5260270413277783}. Best is trial 154 with value: 0.14445977259273768.\n",
      "[I 2023-12-17 23:40:41,024] Trial 250 finished with value: 0.1530763265881816 and parameters: {'lambda': 0.2873328243045732, 'n_estimators': 100, 'max_depth': 10, 'alpha': 3.835399209972598e-05, 'subsample': 0.5191015080275176, 'colsample_bytree': 0.5003429178843184}. Best is trial 154 with value: 0.14445977259273768.\n",
      "[I 2023-12-17 23:40:41,308] Trial 251 finished with value: 0.16422524291138507 and parameters: {'lambda': 0.21169894667790873, 'n_estimators': 100, 'max_depth': 10, 'alpha': 1.4989476255019496e-05, 'subsample': 0.46606904445602504, 'colsample_bytree': 0.5464415334432844}. Best is trial 154 with value: 0.14445977259273768.\n",
      "[I 2023-12-17 23:40:41,600] Trial 252 finished with value: 0.15054562724124743 and parameters: {'lambda': 0.1562327801742133, 'n_estimators': 100, 'max_depth': 10, 'alpha': 6.667871364886565e-07, 'subsample': 0.864616332240004, 'colsample_bytree': 0.5153369720194619}. Best is trial 154 with value: 0.14445977259273768.\n",
      "[I 2023-12-17 23:40:41,825] Trial 253 finished with value: 0.15268182444038572 and parameters: {'lambda': 0.25349335998903005, 'n_estimators': 50, 'max_depth': 10, 'alpha': 5.621613780966931e-07, 'subsample': 0.8033249298623045, 'colsample_bytree': 0.5203505081638177}. Best is trial 154 with value: 0.14445977259273768.\n",
      "[I 2023-12-17 23:40:42,093] Trial 254 finished with value: 0.16197578918378094 and parameters: {'lambda': 0.456771031678119, 'n_estimators': 100, 'max_depth': 10, 'alpha': 6.058202761244811e-07, 'subsample': 0.9854801612899877, 'colsample_bytree': 0.5726743119759288}. Best is trial 154 with value: 0.14445977259273768.\n",
      "[I 2023-12-17 23:40:42,390] Trial 255 finished with value: 0.14605059356519992 and parameters: {'lambda': 0.16622609392519247, 'n_estimators': 100, 'max_depth': 10, 'alpha': 0.0002556599678312822, 'subsample': 0.8929124421213116, 'colsample_bytree': 0.5318125783057682}. Best is trial 154 with value: 0.14445977259273768.\n",
      "[I 2023-12-17 23:40:42,526] Trial 256 finished with value: 0.17272291268243037 and parameters: {'lambda': 0.21898348133742987, 'n_estimators': 20, 'max_depth': 10, 'alpha': 2.307285411413003e-07, 'subsample': 0.8429267373380105, 'colsample_bytree': 0.5425714340360809}. Best is trial 154 with value: 0.14445977259273768.\n",
      "[I 2023-12-17 23:40:42,819] Trial 257 finished with value: 0.16020489323809167 and parameters: {'lambda': 0.15568174692781794, 'n_estimators': 100, 'max_depth': 10, 'alpha': 8.179920108975351e-05, 'subsample': 0.8775165434708332, 'colsample_bytree': 0.5588626442110686}. Best is trial 154 with value: 0.14445977259273768.\n",
      "[I 2023-12-17 23:40:43,401] Trial 258 finished with value: 0.15285080541729046 and parameters: {'lambda': 0.17254149921797765, 'n_estimators': 100, 'max_depth': 10, 'alpha': 0.00041029641131761884, 'subsample': 0.8940181511663362, 'colsample_bytree': 0.5086671765122075}. Best is trial 154 with value: 0.14445977259273768.\n",
      "[I 2023-12-17 23:40:43,924] Trial 259 finished with value: 0.1501598008020695 and parameters: {'lambda': 0.06269697501449453, 'n_estimators': 100, 'max_depth': 10, 'alpha': 0.0002161648472608765, 'subsample': 0.8884823960365471, 'colsample_bytree': 0.537511396602165}. Best is trial 154 with value: 0.14445977259273768.\n"
     ]
    },
    {
     "name": "stderr",
     "output_type": "stream",
     "text": [
      "[I 2023-12-17 23:40:44,301] Trial 260 finished with value: 0.1523508122295104 and parameters: {'lambda': 0.05352290491890411, 'n_estimators': 100, 'max_depth': 10, 'alpha': 0.00010234635715174455, 'subsample': 0.8498509608505748, 'colsample_bytree': 0.5369557240873243}. Best is trial 154 with value: 0.14445977259273768.\n",
      "[I 2023-12-17 23:40:44,624] Trial 261 finished with value: 0.15491885752922813 and parameters: {'lambda': 0.07939071171384145, 'n_estimators': 100, 'max_depth': 10, 'alpha': 0.0002588203790808199, 'subsample': 0.9117717857553245, 'colsample_bytree': 0.5864259838295893}. Best is trial 154 with value: 0.14445977259273768.\n",
      "[I 2023-12-17 23:40:44,729] Trial 262 finished with value: 0.20708083446424083 and parameters: {'lambda': 0.311132334433329, 'n_estimators': 5, 'max_depth': 10, 'alpha': 0.00034257350724979944, 'subsample': 0.9089226584772057, 'colsample_bytree': 0.5537388176089568}. Best is trial 154 with value: 0.14445977259273768.\n",
      "[I 2023-12-17 23:40:45,116] Trial 263 finished with value: 0.24998510040646857 and parameters: {'lambda': 2.116528604599436e-06, 'n_estimators': 100, 'max_depth': 10, 'alpha': 0.00014041147645670613, 'subsample': 0.8714315976301075, 'colsample_bytree': 0.5693963644204774}. Best is trial 154 with value: 0.14445977259273768.\n",
      "[I 2023-12-17 23:40:45,427] Trial 264 finished with value: 0.14913672449424856 and parameters: {'lambda': 0.13247533553224305, 'n_estimators': 100, 'max_depth': 10, 'alpha': 0.00025524361140036496, 'subsample': 0.8719872692988372, 'colsample_bytree': 0.5343029776309915}. Best is trial 154 with value: 0.14445977259273768.\n",
      "[I 2023-12-17 23:40:45,731] Trial 265 finished with value: 0.15713543680932068 and parameters: {'lambda': 0.06143608871983276, 'n_estimators': 100, 'max_depth': 9, 'alpha': 0.0002399377439306547, 'subsample': 0.8890321993572843, 'colsample_bytree': 0.530078253723353}. Best is trial 154 with value: 0.14445977259273768.\n",
      "[I 2023-12-17 23:40:46,050] Trial 266 finished with value: 0.1486844193050858 and parameters: {'lambda': 0.18323426779332963, 'n_estimators': 100, 'max_depth': 10, 'alpha': 0.000340013632495352, 'subsample': 0.8604809020938187, 'colsample_bytree': 0.5460262755169322}. Best is trial 154 with value: 0.14445977259273768.\n",
      "[I 2023-12-17 23:40:46,326] Trial 267 finished with value: 0.17323826246273386 and parameters: {'lambda': 0.5379548892668934, 'n_estimators': 100, 'max_depth': 10, 'alpha': 0.00047293068335165547, 'subsample': 0.8934554902661553, 'colsample_bytree': 0.5127387175326342}. Best is trial 154 with value: 0.14445977259273768.\n",
      "[I 2023-12-17 23:40:46,603] Trial 268 finished with value: 0.1495225106455231 and parameters: {'lambda': 0.28223022390525315, 'n_estimators': 100, 'max_depth': 10, 'alpha': 0.0002332764722375447, 'subsample': 0.8402566645976669, 'colsample_bytree': 0.5416069264309199}. Best is trial 154 with value: 0.14445977259273768.\n",
      "[I 2023-12-17 23:40:46,887] Trial 269 finished with value: 0.15170458009624696 and parameters: {'lambda': 0.317294199922906, 'n_estimators': 100, 'max_depth': 10, 'alpha': 0.0006137280153285988, 'subsample': 0.8740721803872921, 'colsample_bytree': 0.5380580255078427}. Best is trial 154 with value: 0.14445977259273768.\n",
      "[I 2023-12-17 23:40:47,145] Trial 270 finished with value: 0.16265303383250326 and parameters: {'lambda': 0.46289551830886727, 'n_estimators': 100, 'max_depth': 10, 'alpha': 0.00026324487220966196, 'subsample': 0.8329604202552867, 'colsample_bytree': 0.547686637764909}. Best is trial 154 with value: 0.14445977259273768.\n",
      "[I 2023-12-17 23:40:47,404] Trial 271 finished with value: 0.18389954644557388 and parameters: {'lambda': 0.7696470650250941, 'n_estimators': 100, 'max_depth': 10, 'alpha': 0.00019562955008808024, 'subsample': 0.8573000832968548, 'colsample_bytree': 0.5298217938371999}. Best is trial 154 with value: 0.14445977259273768.\n",
      "[I 2023-12-17 23:40:47,664] Trial 272 finished with value: 0.14895318253749187 and parameters: {'lambda': 0.22542298915317613, 'n_estimators': 100, 'max_depth': 10, 'alpha': 0.0003061441369394234, 'subsample': 0.8321928231396746, 'colsample_bytree': 0.5171138637024396}. Best is trial 154 with value: 0.14445977259273768.\n",
      "[I 2023-12-17 23:40:47,936] Trial 273 finished with value: 0.14288024882845765 and parameters: {'lambda': 0.24323776250524623, 'n_estimators': 100, 'max_depth': 10, 'alpha': 0.00032040714686452026, 'subsample': 0.8218414681465803, 'colsample_bytree': 0.5741710189686373}. Best is trial 273 with value: 0.14288024882845765.\n",
      "[I 2023-12-17 23:40:48,205] Trial 274 finished with value: 0.15566486036796362 and parameters: {'lambda': 0.3017243734678305, 'n_estimators': 100, 'max_depth': 10, 'alpha': 0.0003002651387311547, 'subsample': 0.8351060549781083, 'colsample_bytree': 0.5963230393766478}. Best is trial 273 with value: 0.14288024882845765.\n",
      "[I 2023-12-17 23:40:48,457] Trial 275 finished with value: 0.16544617067267853 and parameters: {'lambda': 0.22627524191202286, 'n_estimators': 100, 'max_depth': 9, 'alpha': 0.0006761540368624896, 'subsample': 0.7896215338965915, 'colsample_bytree': 0.5744842933791652}. Best is trial 273 with value: 0.14288024882845765.\n",
      "[I 2023-12-17 23:40:48,705] Trial 276 finished with value: 0.16322715755888256 and parameters: {'lambda': 0.41994559384726426, 'n_estimators': 100, 'max_depth': 10, 'alpha': 0.00029165784186001287, 'subsample': 0.8230553096367155, 'colsample_bytree': 0.5565123944361866}. Best is trial 273 with value: 0.14288024882845765.\n",
      "[I 2023-12-17 23:40:49,049] Trial 277 finished with value: 0.24999803863663841 and parameters: {'lambda': 2.7296500858295374e-07, 'n_estimators': 100, 'max_depth': 10, 'alpha': 0.00039565011309723426, 'subsample': 0.8279106826161798, 'colsample_bytree': 0.5753401222243663}. Best is trial 273 with value: 0.14288024882845765.\n",
      "[I 2023-12-17 23:40:49,256] Trial 278 finished with value: 0.15777977943895016 and parameters: {'lambda': 0.1969688438934975, 'n_estimators': 50, 'max_depth': 10, 'alpha': 0.0001735240774386996, 'subsample': 0.8517926616882963, 'colsample_bytree': 0.5989849723257169}. Best is trial 273 with value: 0.14288024882845765.\n",
      "[I 2023-12-17 23:40:49,547] Trial 279 finished with value: 0.1567958784544823 and parameters: {'lambda': 0.3026488844292049, 'n_estimators': 100, 'max_depth': 10, 'alpha': 0.0010596361583484395, 'subsample': 0.8153958435886757, 'colsample_bytree': 0.5639272226164878}. Best is trial 273 with value: 0.14288024882845765.\n",
      "[I 2023-12-17 23:40:49,824] Trial 280 finished with value: 0.14933200347606532 and parameters: {'lambda': 0.22652842158487987, 'n_estimators': 100, 'max_depth': 10, 'alpha': 0.00021187410856689175, 'subsample': 0.9251326934316975, 'colsample_bytree': 0.5465223803463242}. Best is trial 273 with value: 0.14288024882845765.\n",
      "[I 2023-12-17 23:40:50,088] Trial 281 finished with value: 0.1603364578992895 and parameters: {'lambda': 0.5097464842340018, 'n_estimators': 100, 'max_depth': 10, 'alpha': 0.0004925304611215957, 'subsample': 0.9189263013495124, 'colsample_bytree': 0.5445197827753578}. Best is trial 273 with value: 0.14288024882845765.\n",
      "[I 2023-12-17 23:40:50,170] Trial 282 finished with value: 0.20590973201233745 and parameters: {'lambda': 0.23662474600003114, 'n_estimators': 20, 'max_depth': 5, 'alpha': 0.00011650186348114988, 'subsample': 0.9230549700728252, 'colsample_bytree': 0.5843961745332679}. Best is trial 273 with value: 0.14288024882845765.\n",
      "[I 2023-12-17 23:40:50,418] Trial 283 finished with value: 0.15069854970209773 and parameters: {'lambda': 0.3526817407384007, 'n_estimators': 100, 'max_depth': 10, 'alpha': 0.000332566065408171, 'subsample': 0.9334786029191766, 'colsample_bytree': 0.560626397737963}. Best is trial 273 with value: 0.14288024882845765.\n",
      "[I 2023-12-17 23:40:50,530] Trial 284 finished with value: 0.21918613656403887 and parameters: {'lambda': 0.1921629884509783, 'n_estimators': 100, 'max_depth': 2, 'alpha': 0.00022367480407240204, 'subsample': 0.885403312220752, 'colsample_bytree': 0.548481251844703}. Best is trial 273 with value: 0.14288024882845765.\n",
      "[I 2023-12-17 23:40:50,820] Trial 285 finished with value: 0.14996194580729877 and parameters: {'lambda': 0.22991035334756627, 'n_estimators': 100, 'max_depth': 10, 'alpha': 0.0007498356689205233, 'subsample': 0.8581758430006874, 'colsample_bytree': 0.5342633994203729}. Best is trial 273 with value: 0.14288024882845765.\n"
     ]
    },
    {
     "name": "stderr",
     "output_type": "stream",
     "text": [
      "[I 2023-12-17 23:40:51,169] Trial 286 finished with value: 0.24999976877143398 and parameters: {'lambda': 3.3112276113593015e-08, 'n_estimators': 100, 'max_depth': 10, 'alpha': 0.0017312349784009415, 'subsample': 0.8733240426747698, 'colsample_bytree': 0.5425845504630807}. Best is trial 273 with value: 0.14288024882845765.\n",
      "[I 2023-12-17 23:40:51,399] Trial 287 finished with value: 0.16593280218923606 and parameters: {'lambda': 0.5599903129766571, 'n_estimators': 100, 'max_depth': 9, 'alpha': 0.000893832630661501, 'subsample': 0.9496521390386191, 'colsample_bytree': 0.5698660697326791}. Best is trial 273 with value: 0.14288024882845765.\n",
      "[I 2023-12-17 23:40:51,666] Trial 288 finished with value: 0.1589212555213479 and parameters: {'lambda': 0.27386335450313404, 'n_estimators': 100, 'max_depth': 10, 'alpha': 0.0006746043484833255, 'subsample': 0.8548168043416723, 'colsample_bytree': 0.5342551659892226}. Best is trial 273 with value: 0.14288024882845765.\n",
      "[I 2023-12-17 23:40:51,944] Trial 289 finished with value: 0.15483900053894184 and parameters: {'lambda': 0.1979765761722996, 'n_estimators': 100, 'max_depth': 10, 'alpha': 0.0004218687437902075, 'subsample': 0.8609840376686924, 'colsample_bytree': 0.6049720573664703}. Best is trial 273 with value: 0.14288024882845765.\n",
      "[I 2023-12-17 23:40:52,202] Trial 290 finished with value: 0.16753698224324973 and parameters: {'lambda': 0.36971842880988964, 'n_estimators': 100, 'max_depth': 10, 'alpha': 0.0002629204825732188, 'subsample': 0.9089260648374624, 'colsample_bytree': 0.5558638230530684}. Best is trial 273 with value: 0.14288024882845765.\n",
      "[I 2023-12-17 23:40:52,311] Trial 291 finished with value: 0.21459032723475763 and parameters: {'lambda': 0.23837037076420148, 'n_estimators': 5, 'max_depth': 10, 'alpha': 0.00013347698813918947, 'subsample': 0.900516582942168, 'colsample_bytree': 0.5324865342590583}. Best is trial 273 with value: 0.14288024882845765.\n",
      "[I 2023-12-17 23:40:52,655] Trial 292 finished with value: 0.24979507290175498 and parameters: {'lambda': 2.9414681783048654e-05, 'n_estimators': 100, 'max_depth': 10, 'alpha': 0.0005440812288308179, 'subsample': 0.8775732361560967, 'colsample_bytree': 0.5703404484958547}. Best is trial 273 with value: 0.14288024882845765.\n",
      "[I 2023-12-17 23:40:52,927] Trial 293 finished with value: 0.1414301649956255 and parameters: {'lambda': 0.17014849380622574, 'n_estimators': 100, 'max_depth': 10, 'alpha': 0.00020725765634627857, 'subsample': 0.8340719675810802, 'colsample_bytree': 0.5850478334521498}. Best is trial 293 with value: 0.1414301649956255.\n",
      "[I 2023-12-17 23:40:53,200] Trial 294 finished with value: 0.14563470160274805 and parameters: {'lambda': 0.1587353383186604, 'n_estimators': 100, 'max_depth': 10, 'alpha': 0.0002351912879309879, 'subsample': 0.8442865648124128, 'colsample_bytree': 0.6224824495508823}. Best is trial 293 with value: 0.1414301649956255.\n",
      "[I 2023-12-17 23:40:53,471] Trial 295 finished with value: 0.16505146235277174 and parameters: {'lambda': 0.7655077463804187, 'n_estimators': 100, 'max_depth': 10, 'alpha': 0.00034858722347001693, 'subsample': 0.8441543491004893, 'colsample_bytree': 0.6281232436265595}. Best is trial 293 with value: 0.1414301649956255.\n",
      "[I 2023-12-17 23:40:53,737] Trial 296 finished with value: 0.15031220000172496 and parameters: {'lambda': 0.17524267710453326, 'n_estimators': 100, 'max_depth': 10, 'alpha': 0.00016862162139583242, 'subsample': 0.8289564100577863, 'colsample_bytree': 0.5928474763441492}. Best is trial 293 with value: 0.1414301649956255.\n",
      "[I 2023-12-17 23:40:53,831] Trial 297 finished with value: 0.24186927569334324 and parameters: {'lambda': 0.2718151976424258, 'n_estimators': 100, 'max_depth': 1, 'alpha': 0.00010668018852086912, 'subsample': 0.8118433984820385, 'colsample_bytree': 0.6167599213664003}. Best is trial 293 with value: 0.1414301649956255.\n",
      "[I 2023-12-17 23:40:54,054] Trial 298 finished with value: 0.16207460322258946 and parameters: {'lambda': 0.38968230294346756, 'n_estimators': 100, 'max_depth': 9, 'alpha': 7.947392972248696e-05, 'subsample': 0.8426403468389115, 'colsample_bytree': 0.6086485604983898}. Best is trial 293 with value: 0.1414301649956255.\n",
      "[I 2023-12-17 23:40:54,356] Trial 299 finished with value: 0.15000025000044914 and parameters: {'lambda': 0.16829101250802375, 'n_estimators': 100, 'max_depth': 10, 'alpha': 0.000845057755137639, 'subsample': 0.865400994763559, 'colsample_bytree': 0.586340268401932}. Best is trial 293 with value: 0.1414301649956255.\n"
     ]
    },
    {
     "name": "stdout",
     "output_type": "stream",
     "text": [
      "Number of finished trials:  300\n",
      "Best trial:\n",
      "  Value: 0.1414301649956255\n",
      "  Params: \n",
      "    lambda: 0.17014849380622574\n",
      "    n_estimators: 100\n",
      "    max_depth: 10\n",
      "    alpha: 0.00020725765634627857\n",
      "    subsample: 0.8340719675810802\n",
      "    colsample_bytree: 0.5850478334521498\n"
     ]
    }
   ],
   "source": [
    "# Crea un objeto de estudio de Optuna para la optimización\n",
    "study = optuna.create_study(direction=\"minimize\")\n",
    "\n",
    "# Realiza la optimización de hiperparámetros con un número limitado de iteraciones y tiempo máximo\n",
    "study.optimize(objective, n_trials=300,\n",
    "    timeout=600,\n",
    "    show_progress_bar=False)\n",
    "\n",
    "# Imprime información sobre los resultados de la optimización\n",
    "print(\"Number of finished trials: \", len(study.trials))\n",
    "print(\"Best trial:\")\n",
    "trial = study.best_trial\n",
    "print(\"  Value: {}\".format(trial.value))\n",
    "print(\"  Params: \")\n",
    "for key, value in trial.params.items():\n",
    "    print(\"    {}: {}\".format(key, value))"
   ]
  },
  {
   "cell_type": "code",
   "execution_count": 442,
   "metadata": {},
   "outputs": [
    {
     "data": {
      "text/plain": [
       "XGBClassifier(alpha=2.3650569785473987e-08, base_score=None, booster=None,\n",
       "              callbacks=None, colsample_bylevel=None, colsample_bynode=None,\n",
       "              colsample_bytree=0.5697275516942018, device=None,\n",
       "              early_stopping_rounds=None, enable_categorical=False,\n",
       "              eval_metric=None, feature_types=None, gamma=None,\n",
       "              grow_policy=None, importance_type=None,\n",
       "              interaction_constraints=None, lambda=0.0956294693365543,\n",
       "              learning_rate=0.0956294693365543, max_bin=None,\n",
       "              max_cat_threshold=None, max_cat_to_onehot=None,\n",
       "              max_delta_step=None, max_depth=3, max_leaves=None,\n",
       "              min_child_weight=None, missing=nan, monotone_constraints=None,\n",
       "              multi_strategy=None, n_estimators=100, n_jobs=None, ...)"
      ]
     },
     "execution_count": 442,
     "metadata": {},
     "output_type": "execute_result"
    }
   ],
   "source": [
    "modelo_cargado[\"model\"]"
   ]
  },
  {
   "cell_type": "code",
   "execution_count": 466,
   "metadata": {
    "scrolled": true
   },
   "outputs": [
    {
     "name": "stdout",
     "output_type": "stream",
     "text": [
      "------------------------------92\n"
     ]
    },
    {
     "ename": "ValueError",
     "evalue": "Found input variables with inconsistent numbers of samples: [257, 527]",
     "output_type": "error",
     "traceback": [
      "\u001b[1;31m---------------------------------------------------------------------------\u001b[0m",
      "\u001b[1;31mValueError\u001b[0m                                Traceback (most recent call last)",
      "\u001b[1;32m~\\AppData\\Local\\Temp\\1\\ipykernel_20044\\4106250264.py\u001b[0m in \u001b[0;36m<module>\u001b[1;34m\u001b[0m\n\u001b[0;32m     11\u001b[0m         \u001b[0mmodelo_cargado\u001b[0m \u001b[1;33m=\u001b[0m \u001b[0mpickle\u001b[0m\u001b[1;33m.\u001b[0m\u001b[0mload\u001b[0m\u001b[1;33m(\u001b[0m\u001b[0mfile\u001b[0m\u001b[1;33m)\u001b[0m\u001b[1;33m\u001b[0m\u001b[1;33m\u001b[0m\u001b[0m\n\u001b[0;32m     12\u001b[0m     \u001b[0my_train_prediction\u001b[0m\u001b[1;33m=\u001b[0m\u001b[0mmodelo_cargado\u001b[0m\u001b[1;33m.\u001b[0m\u001b[0mpredict_proba\u001b[0m\u001b[1;33m(\u001b[0m\u001b[0mX_train\u001b[0m\u001b[1;33m)\u001b[0m\u001b[1;33m[\u001b[0m\u001b[1;33m:\u001b[0m\u001b[1;33m,\u001b[0m\u001b[1;33m-\u001b[0m\u001b[1;36m1\u001b[0m\u001b[1;33m]\u001b[0m\u001b[1;33m\u001b[0m\u001b[1;33m\u001b[0m\u001b[0m\n\u001b[1;32m---> 13\u001b[1;33m     \u001b[0mmetricas_modelo\u001b[0m\u001b[1;33m(\u001b[0m\u001b[0my_test\u001b[0m\u001b[1;33m,\u001b[0m \u001b[0mpredictions\u001b[0m\u001b[1;33m)\u001b[0m\u001b[1;33m\u001b[0m\u001b[1;33m\u001b[0m\u001b[0m\n\u001b[0m\u001b[0;32m     14\u001b[0m \u001b[1;33m\u001b[0m\u001b[0m\n\u001b[0;32m     15\u001b[0m     \u001b[1;31m# Predict and evaluate\u001b[0m\u001b[1;33m\u001b[0m\u001b[1;33m\u001b[0m\u001b[0m\n",
      "\u001b[1;32m~\\AppData\\Local\\Temp\\1\\ipykernel_20044\\4170656868.py\u001b[0m in \u001b[0;36mmetricas_modelo\u001b[1;34m(y_real, prob_pred)\u001b[0m\n\u001b[0;32m      6\u001b[0m \u001b[1;32mdef\u001b[0m \u001b[0mmetricas_modelo\u001b[0m\u001b[1;33m(\u001b[0m\u001b[0my_real\u001b[0m\u001b[1;33m,\u001b[0m \u001b[0mprob_pred\u001b[0m\u001b[1;33m)\u001b[0m\u001b[1;33m:\u001b[0m\u001b[1;33m\u001b[0m\u001b[1;33m\u001b[0m\u001b[0m\n\u001b[0;32m      7\u001b[0m     \u001b[0my_pred\u001b[0m \u001b[1;33m=\u001b[0m \u001b[0mlist\u001b[0m\u001b[1;33m(\u001b[0m\u001b[0mmap\u001b[0m\u001b[1;33m(\u001b[0m\u001b[1;32mlambda\u001b[0m \u001b[0mx\u001b[0m\u001b[1;33m:\u001b[0m \u001b[1;36m1\u001b[0m \u001b[1;32mif\u001b[0m \u001b[0mx\u001b[0m\u001b[1;33m==\u001b[0m\u001b[1;32mTrue\u001b[0m \u001b[1;32melse\u001b[0m \u001b[1;36m0\u001b[0m\u001b[1;33m,\u001b[0m \u001b[0mprob_pred\u001b[0m\u001b[1;33m>\u001b[0m\u001b[1;36m0.5\u001b[0m\u001b[1;33m)\u001b[0m\u001b[1;33m)\u001b[0m\u001b[1;33m\u001b[0m\u001b[1;33m\u001b[0m\u001b[0m\n\u001b[1;32m----> 8\u001b[1;33m     \u001b[0mbrier\u001b[0m \u001b[1;33m=\u001b[0m \u001b[0mround\u001b[0m\u001b[1;33m(\u001b[0m\u001b[0mbrier_score_loss\u001b[0m\u001b[1;33m(\u001b[0m\u001b[0my_real\u001b[0m\u001b[1;33m,\u001b[0m\u001b[0mprob_pred\u001b[0m\u001b[1;33m)\u001b[0m\u001b[1;33m*\u001b[0m\u001b[1;36m100\u001b[0m\u001b[1;33m,\u001b[0m\u001b[1;36m2\u001b[0m\u001b[1;33m)\u001b[0m\u001b[1;33m\u001b[0m\u001b[1;33m\u001b[0m\u001b[0m\n\u001b[0m\u001b[0;32m      9\u001b[0m     \u001b[0mcm\u001b[0m \u001b[1;33m=\u001b[0m \u001b[0mconfusion_matrix\u001b[0m\u001b[1;33m(\u001b[0m\u001b[0my_real\u001b[0m\u001b[1;33m,\u001b[0m\u001b[0my_pred\u001b[0m\u001b[1;33m)\u001b[0m\u001b[1;33m\u001b[0m\u001b[1;33m\u001b[0m\u001b[0m\n\u001b[0;32m     10\u001b[0m     \u001b[0macc_neg\u001b[0m \u001b[1;33m=\u001b[0m \u001b[0mround\u001b[0m\u001b[1;33m(\u001b[0m\u001b[1;36m100\u001b[0m\u001b[1;33m*\u001b[0m\u001b[0mcm\u001b[0m\u001b[1;33m[\u001b[0m\u001b[1;36m0\u001b[0m\u001b[1;33m,\u001b[0m\u001b[1;36m0\u001b[0m\u001b[1;33m]\u001b[0m\u001b[1;33m/\u001b[0m\u001b[1;33m(\u001b[0m\u001b[0mcm\u001b[0m\u001b[1;33m[\u001b[0m\u001b[1;36m0\u001b[0m\u001b[1;33m,\u001b[0m\u001b[1;36m0\u001b[0m\u001b[1;33m]\u001b[0m\u001b[1;33m+\u001b[0m\u001b[0mcm\u001b[0m\u001b[1;33m[\u001b[0m\u001b[1;36m0\u001b[0m\u001b[1;33m,\u001b[0m\u001b[1;36m1\u001b[0m\u001b[1;33m]\u001b[0m\u001b[1;33m)\u001b[0m\u001b[1;33m,\u001b[0m\u001b[1;36m2\u001b[0m\u001b[1;33m)\u001b[0m\u001b[1;33m\u001b[0m\u001b[1;33m\u001b[0m\u001b[0m\n",
      "\u001b[1;32m~\\Anaconda3\\lib\\site-packages\\sklearn\\metrics\\_classification.py\u001b[0m in \u001b[0;36mbrier_score_loss\u001b[1;34m(y_true, y_prob, sample_weight, pos_label)\u001b[0m\n\u001b[0;32m   2663\u001b[0m     \u001b[0massert_all_finite\u001b[0m\u001b[1;33m(\u001b[0m\u001b[0my_true\u001b[0m\u001b[1;33m)\u001b[0m\u001b[1;33m\u001b[0m\u001b[1;33m\u001b[0m\u001b[0m\n\u001b[0;32m   2664\u001b[0m     \u001b[0massert_all_finite\u001b[0m\u001b[1;33m(\u001b[0m\u001b[0my_prob\u001b[0m\u001b[1;33m)\u001b[0m\u001b[1;33m\u001b[0m\u001b[1;33m\u001b[0m\u001b[0m\n\u001b[1;32m-> 2665\u001b[1;33m     \u001b[0mcheck_consistent_length\u001b[0m\u001b[1;33m(\u001b[0m\u001b[0my_true\u001b[0m\u001b[1;33m,\u001b[0m \u001b[0my_prob\u001b[0m\u001b[1;33m,\u001b[0m \u001b[0msample_weight\u001b[0m\u001b[1;33m)\u001b[0m\u001b[1;33m\u001b[0m\u001b[1;33m\u001b[0m\u001b[0m\n\u001b[0m\u001b[0;32m   2666\u001b[0m \u001b[1;33m\u001b[0m\u001b[0m\n\u001b[0;32m   2667\u001b[0m     \u001b[0my_type\u001b[0m \u001b[1;33m=\u001b[0m \u001b[0mtype_of_target\u001b[0m\u001b[1;33m(\u001b[0m\u001b[0my_true\u001b[0m\u001b[1;33m)\u001b[0m\u001b[1;33m\u001b[0m\u001b[1;33m\u001b[0m\u001b[0m\n",
      "\u001b[1;32m~\\Anaconda3\\lib\\site-packages\\sklearn\\utils\\validation.py\u001b[0m in \u001b[0;36mcheck_consistent_length\u001b[1;34m(*arrays)\u001b[0m\n\u001b[0;32m    330\u001b[0m     \u001b[0muniques\u001b[0m \u001b[1;33m=\u001b[0m \u001b[0mnp\u001b[0m\u001b[1;33m.\u001b[0m\u001b[0munique\u001b[0m\u001b[1;33m(\u001b[0m\u001b[0mlengths\u001b[0m\u001b[1;33m)\u001b[0m\u001b[1;33m\u001b[0m\u001b[1;33m\u001b[0m\u001b[0m\n\u001b[0;32m    331\u001b[0m     \u001b[1;32mif\u001b[0m \u001b[0mlen\u001b[0m\u001b[1;33m(\u001b[0m\u001b[0muniques\u001b[0m\u001b[1;33m)\u001b[0m \u001b[1;33m>\u001b[0m \u001b[1;36m1\u001b[0m\u001b[1;33m:\u001b[0m\u001b[1;33m\u001b[0m\u001b[1;33m\u001b[0m\u001b[0m\n\u001b[1;32m--> 332\u001b[1;33m         raise ValueError(\n\u001b[0m\u001b[0;32m    333\u001b[0m             \u001b[1;34m\"Found input variables with inconsistent numbers of samples: %r\"\u001b[0m\u001b[1;33m\u001b[0m\u001b[1;33m\u001b[0m\u001b[0m\n\u001b[0;32m    334\u001b[0m             \u001b[1;33m%\u001b[0m \u001b[1;33m[\u001b[0m\u001b[0mint\u001b[0m\u001b[1;33m(\u001b[0m\u001b[0ml\u001b[0m\u001b[1;33m)\u001b[0m \u001b[1;32mfor\u001b[0m \u001b[0ml\u001b[0m \u001b[1;32min\u001b[0m \u001b[0mlengths\u001b[0m\u001b[1;33m]\u001b[0m\u001b[1;33m\u001b[0m\u001b[1;33m\u001b[0m\u001b[0m\n",
      "\u001b[1;31mValueError\u001b[0m: Found input variables with inconsistent numbers of samples: [257, 527]"
     ]
    }
   ],
   "source": [
    "import pickle\n",
    "\n",
    "models_mejores = [92, 99, 82]\n",
    "for i in models_mejores:\n",
    "    # Nombre del archivo que contiene el modelo pickle\n",
    "    print(30*\"-\"+str(i))\n",
    "    modelo_pkl = f'../models_encoder/{i}.pickle'\n",
    "\n",
    "    # Cargar el modelo desde el archivo pickle\n",
    "    with open(modelo_pkl, 'rb') as file:\n",
    "        modelo_cargado = pickle.load(file)\n",
    "    y_train_prediction=modelo_cargado.predict_proba(X_train)[:,-1]\n",
    "    metricas_modelo(y_test, predictions)\n",
    "\n",
    "    # Predict and evaluate\n",
    "    predictions = modelo_cargado.predict_proba(X_test)[:,-1]\n",
    "    brier_score = brier_score_loss(y_test, predictions)\n",
    "    metricas_modelo(y_test, predictions)"
   ]
  },
  {
   "cell_type": "code",
   "execution_count": 428,
   "metadata": {
    "scrolled": true
   },
   "outputs": [],
   "source": [
    "    df = pd.read_csv('../data/raw/training.csv')\n",
    "    X = df.iloc[:,:-1].copy()\n",
    "    y = df.Target\n",
    "    X_val = pd.read_csv('../data/raw/data_evaluation.csv')\n",
    "    X_traint, _, y_traint, _ = train_test_split(X, y, test_size=0.10, random_state=42, stratify=y)\n",
    "    X_transformed, X_val_transformed = preprocess_data(X_traint, X_val, cat_encoder_strategy='ohe')\n",
    "    # _val_prediction = best_model.predict_proba(X_val_transformed)[:,-1]"
   ]
  },
  {
   "cell_type": "code",
   "execution_count": 429,
   "metadata": {},
   "outputs": [
    {
     "name": "stdout",
     "output_type": "stream",
     "text": [
      "17/17 [==============================] - 0s 4ms/step\n"
     ]
    }
   ],
   "source": [
    "encoded_val = encoder.predict(X_val_transformed)\n"
   ]
  },
  {
   "cell_type": "code",
   "execution_count": 436,
   "metadata": {},
   "outputs": [
    {
     "data": {
      "text/plain": [
       "(527, 50)"
      ]
     },
     "execution_count": 436,
     "metadata": {},
     "output_type": "execute_result"
    }
   ],
   "source": [
    "encoded_val.shape"
   ]
  },
  {
   "cell_type": "code",
   "execution_count": 437,
   "metadata": {},
   "outputs": [],
   "source": [
    "    modelo_pkl = f'../models_encoder/{82}.pickle'\n",
    "\n",
    "    # Cargar el modelo desde el archivo pickle\n",
    "    with open(modelo_pkl, 'rb') as file:\n",
    "        modelo_cargado2 = pickle.load(file)"
   ]
  },
  {
   "cell_type": "code",
   "execution_count": 461,
   "metadata": {},
   "outputs": [
    {
     "data": {
      "text/plain": [
       "XGBClassifier(alpha=2.3650569785473987e-08, base_score=None, booster=None,\n",
       "              callbacks=None, colsample_bylevel=None, colsample_bynode=None,\n",
       "              colsample_bytree=0.5697275516942018, device=None,\n",
       "              early_stopping_rounds=None, enable_categorical=False,\n",
       "              eval_metric=None, feature_types=None, gamma=None,\n",
       "              grow_policy=None, importance_type=None,\n",
       "              interaction_constraints=None, lambda=0.0956294693365543,\n",
       "              learning_rate=0.0956294693365543, max_bin=None,\n",
       "              max_cat_threshold=None, max_cat_to_onehot=None,\n",
       "              max_delta_step=None, max_depth=3, max_leaves=None,\n",
       "              min_child_weight=None, missing=nan, monotone_constraints=None,\n",
       "              multi_strategy=None, n_estimators=100, n_jobs=None, ...)"
      ]
     },
     "execution_count": 461,
     "metadata": {},
     "output_type": "execute_result"
    }
   ],
   "source": [
    "modelo_cargado2[\"model\"]"
   ]
  },
  {
   "cell_type": "code",
   "execution_count": 496,
   "metadata": {
    "scrolled": true
   },
   "outputs": [],
   "source": [
    "    predictions =pipeline.predict_proba(encoded_val)[:,-1]\n"
   ]
  },
  {
   "cell_type": "code",
   "execution_count": 498,
   "metadata": {},
   "outputs": [],
   "source": [
    "submission3 = pd.DataFrame({'prediction': predictions})\n",
    "submission3.to_csv('../data/interim/submission_final2_tensor-troopers.csv', index=False)"
   ]
  },
  {
   "cell_type": "code",
   "execution_count": 452,
   "metadata": {},
   "outputs": [
    {
     "data": {
      "text/plain": [
       "(2306, 50)"
      ]
     },
     "execution_count": 452,
     "metadata": {},
     "output_type": "execute_result"
    }
   ],
   "source": [
    "encoded_train.shape"
   ]
  },
  {
   "cell_type": "code",
   "execution_count": 495,
   "metadata": {},
   "outputs": [
    {
     "data": {
      "text/plain": [
       "Pipeline(steps=[('over', SMOTE(random_state=42, sampling_strategy='minority')),\n",
       "                ('model',\n",
       "                 XGBClassifier(base_score=None, booster=None, callbacks=None,\n",
       "                               colsample_bylevel=None, colsample_bynode=None,\n",
       "                               colsample_bytree=None, device=None,\n",
       "                               early_stopping_rounds=None,\n",
       "                               enable_categorical=False, eval_metric='logloss',\n",
       "                               feature_types=None, gamma=None, grow_policy=None,\n",
       "                               importance_type=None,\n",
       "                               interaction_constraints=None, learning_rate=None,\n",
       "                               max_bin=None, max_cat_threshold=None,\n",
       "                               max_cat_to_onehot=None, max_delta_step=None,\n",
       "                               max_depth=None, max_leaves=None,\n",
       "                               min_child_weight=None, missing=nan,\n",
       "                               monotone_constraints=None, multi_strategy=None,\n",
       "                               n_estimators=None, n_jobs=None,\n",
       "                               num_parallel_tree=None, random_state=42, ...))])"
      ]
     },
     "execution_count": 495,
     "metadata": {},
     "output_type": "execute_result"
    }
   ],
   "source": [
    "trial.params[\"seed\"] = 19970808\n",
    "trial.params[\"verbose\"] = 1\n",
    "trial.params[\"objective\"] = \"binary:logistic\"\n",
    "estimator = XGBClassifier(**trial.params)\n",
    "steps = [('over', SMOTE(sampling_strategy='minority', random_state=42)), ('model', xgb_model)]\n",
    "#steps = [('model', xgb_model)]\n",
    "pipeline = Pipeline(steps=steps)\n",
    "pipeline.fit(encoded_train, y_train)"
   ]
  },
  {
   "cell_type": "code",
   "execution_count": 457,
   "metadata": {},
   "outputs": [
    {
     "data": {
      "text/plain": [
       "array([0.00996268, 0.02929138, 0.12369116, ..., 0.12047444, 0.12800144,\n",
       "       0.22633165], dtype=float32)"
      ]
     },
     "execution_count": 457,
     "metadata": {},
     "output_type": "execute_result"
    }
   ],
   "source": [
    "y_train_prediction=pipeline.predict_proba(encoded_train)[:,-1]\n",
    "y_train_prediction"
   ]
  },
  {
   "cell_type": "code",
   "execution_count": 391,
   "metadata": {},
   "outputs": [
    {
     "name": "stdout",
     "output_type": "stream",
     "text": [
      "Training Brier Score: 0.15766646500387035\n"
     ]
    }
   ],
   "source": [
    "trial.params[\"seed\"] = 19970808\n",
    "trial.params[\"verbose\"] = 1\n",
    "trial.params[\"objective\"] = \"binary:logistic\"\n",
    "estimator = XGBClassifier(**trial.params)\n",
    "steps = [('over', SMOTE(sampling_strategy='minority', random_state=42)), ('model', xgb_model)]\n",
    "#steps = [('model', xgb_model)]\n",
    "pipeline = Pipeline(steps=steps)\n",
    "pipeline.fit(encoded_train, y_train)\n",
    "y_train_prediction=pipeline.predict_proba(encoded_train)[:,-1]\n",
    "\n",
    "\n",
    "# Predict and evaluate\n",
    "predictions = pipeline.predict_proba(encoded_test)[:,-1]\n",
    "brier_score = brier_score_loss(y_test, predictions)\n",
    "print(f\"Training Brier Score: {brier_score}\")\n"
   ]
  },
  {
   "cell_type": "code",
   "execution_count": 382,
   "metadata": {},
   "outputs": [],
   "source": [
    "from sklearn.metrics import classification_report, brier_score_loss, confusion_matrix, accuracy_score\n",
    "\n",
    "\n",
    "# Create a function that return the metrics we need to compare if the model is a good one.\n",
    "# The function returns 'brier_score', 'confusion matrix', 'accuracy negative and positive', 'accuracy'\n",
    "def metricas_modelo(y_real, prob_pred):\n",
    "    y_pred = list(map(lambda x: 1 if x==True else 0, prob_pred>0.5))\n",
    "    brier = round(brier_score_loss(y_real,prob_pred)*100,2)\n",
    "    cm = confusion_matrix(y_real,y_pred)\n",
    "    acc_neg = round(100*cm[0,0]/(cm[0,0]+cm[0,1]),2)\n",
    "    acc_pos = round(100*cm[1,1]/(cm[1,0]+cm[1,1]),2)\n",
    "    acc = round(100*accuracy_score(y_real, y_pred),2)\n",
    "    print(f' brier: {brier},\\n confusion_m: \\n{cm},\\n acc_neg: {acc_neg},\\n acc_pos: {acc_pos},\\n accuracy: {acc}')"
   ]
  },
  {
   "cell_type": "code",
   "execution_count": 392,
   "metadata": {
    "scrolled": true
   },
   "outputs": [
    {
     "data": {
      "text/plain": [
       "(array([1426.,  421.,  151.,   42.,   12.,    2.,    3.,   11.,   52.,\n",
       "         186.]),\n",
       " array([1.5828402e-04, 9.8800048e-02, 1.9744180e-01, 2.9608357e-01,\n",
       "        3.9472532e-01, 4.9336711e-01, 5.9200883e-01, 6.9065064e-01,\n",
       "        7.8929240e-01, 8.8793415e-01, 9.8657590e-01], dtype=float32),\n",
       " <BarContainer object of 10 artists>)"
      ]
     },
     "execution_count": 392,
     "metadata": {},
     "output_type": "execute_result"
    },
    {
     "data": {
      "image/png": "[encoded data removed]",
      "text/plain": [
       "<Figure size 640x480 with 1 Axes>"
      ]
     },
     "metadata": {},
     "output_type": "display_data"
    }
   ],
   "source": [
    "plt.hist(y_train_prediction)"
   ]
  },
  {
   "cell_type": "code",
   "execution_count": 393,
   "metadata": {
    "scrolled": true
   },
   "outputs": [
    {
     "data": {
      "text/plain": [
       "(array([112.,  46.,  30.,  21.,  13.,  12.,   7.,   7.,   5.,   4.]),\n",
       " array([9.4219617e-04, 9.6472807e-02, 1.9200341e-01, 2.8753403e-01,\n",
       "        3.8306463e-01, 4.7859523e-01, 5.7412583e-01, 6.6965646e-01,\n",
       "        7.6518708e-01, 8.6071765e-01, 9.5624828e-01], dtype=float32),\n",
       " <BarContainer object of 10 artists>)"
      ]
     },
     "execution_count": 393,
     "metadata": {},
     "output_type": "execute_result"
    },
    {
     "data": {
      "image/png": "[encoded data removed]",
      "text/plain": [
       "<Figure size 640x480 with 1 Axes>"
      ]
     },
     "metadata": {},
     "output_type": "display_data"
    }
   ],
   "source": [
    "plt.hist(predictions)"
   ]
  },
  {
   "cell_type": "code",
   "execution_count": 394,
   "metadata": {},
   "outputs": [
    {
     "name": "stdout",
     "output_type": "stream",
     "text": [
      " brier: 1.37,\n",
      " confusion_m: \n",
      "[[2052    4]\n",
      " [   0  250]],\n",
      " acc_neg: 99.81,\n",
      " acc_pos: 100.0,\n",
      " accuracy: 99.83\n"
     ]
    }
   ],
   "source": [
    "metricas_modelo(y_train, y_train_prediction)"
   ]
  },
  {
   "cell_type": "code",
   "execution_count": 395,
   "metadata": {
    "scrolled": true
   },
   "outputs": [
    {
     "name": "stdout",
     "output_type": "stream",
     "text": [
      " brier: 15.77,\n",
      " confusion_m: \n",
      "[[200  29]\n",
      " [ 25   3]],\n",
      " acc_neg: 87.34,\n",
      " acc_pos: 10.71,\n",
      " accuracy: 78.99\n"
     ]
    }
   ],
   "source": [
    "metricas_modelo(y_test, predictions)"
   ]
  },
  {
   "cell_type": "code",
   "execution_count": 342,
   "metadata": {},
   "outputs": [
    {
     "name": "stdout",
     "output_type": "stream",
     "text": [
      " brier: 10.89,\n",
      " confusion_m: \n",
      "[[229   0]\n",
      " [ 28   0]],\n",
      " acc_neg: 100.0,\n",
      " acc_pos: 0.0,\n",
      " accuracy: 89.11\n"
     ]
    }
   ],
   "source": [
    "metricas_modelo(y_test, np.repeat(0, len(y_test)))"
   ]
  },
  {
   "cell_type": "code",
   "execution_count": 290,
   "metadata": {
    "colab": {
     "base_uri": "https://localhost:8080/"
    },
    "id": "ogff9bWP9kmo",
    "outputId": "b122a390-2ce8-4445-bd7c-fdd43ce53645"
   },
   "outputs": [
    {
     "name": "stdout",
     "output_type": "stream",
     "text": [
      "Training Brier Score: 0.11207503183436726\n"
     ]
    }
   ],
   "source": [
    "# Create and train XGBoost model\n",
    "xgb_model = xgb.XGBClassifier(objective=\"binary:logistic\", random_state=42, eval_metric=\"logloss\")\n",
    "xgb_model.fit(encoded_train, y_train)\n",
    "\n",
    "# Predict and evaluate\n",
    "predictions = xgb_model.predict_proba(encoded_test)[:,-1]\n",
    "brier_score = brier_score_loss(y_test, predictions)\n",
    "print(f\"Training Brier Score: {brier_score}\")\n",
    "# Training Brier Score: 0.11279726129791122\n",
    "# Training Brier Score: 0.11714360481200606\n",
    "# Training Brier Score: 0.11777625155561622"
   ]
  },
  {
   "cell_type": "code",
   "execution_count": 167,
   "metadata": {
    "colab": {
     "base_uri": "https://localhost:8080/"
    },
    "id": "TDmJnugd9nMe",
    "outputId": "5d19843c-6f15-4063-a961-a0f0531c64af",
    "scrolled": true
   },
   "outputs": [
    {
     "data": {
      "text/plain": [
       "array([0.20261128, 0.01139878, 0.03176539, 0.00174099, 0.03037201,\n",
       "       0.11268315, 0.0705601 , 0.01711762, 0.00775052, 0.00807216,\n",
       "       0.10227863, 0.0153977 , 0.07191005, 0.01977401, 0.3084631 ,\n",
       "       0.00619547, 0.10055505, 0.06730863, 0.88475347, 0.04632831,\n",
       "       0.03381374, 0.18474172, 0.04538668, 0.00849536, 0.17397577,\n",
       "       0.05084885, 0.00346983, 0.00200994, 0.01535886, 0.02459586,\n",
       "       0.05409465, 0.02091833, 0.09182653, 0.05586762, 0.0429269 ,\n",
       "       0.04708069, 0.10406672, 0.04846288, 0.3756952 , 0.11448886,\n",
       "       0.03986258, 0.00359359, 0.03047883, 0.09930124, 0.01145795,\n",
       "       0.19437358, 0.00876731, 0.17942841, 0.0133851 , 0.28511563,\n",
       "       0.00901161, 0.04791351, 0.01136111, 0.02722641, 0.00798612,\n",
       "       0.07275734, 0.02403409, 0.01769442, 0.01327464, 0.00485444,\n",
       "       0.00527194, 0.01229402, 0.6199905 , 0.03574907, 0.00404248,\n",
       "       0.04562401, 0.07563102, 0.00372288, 0.06702212, 0.01861775,\n",
       "       0.1906434 , 0.03473552, 0.07217296, 0.07647882, 0.03717296,\n",
       "       0.22315374, 0.08605628, 0.0108038 , 0.03032048, 0.01971746,\n",
       "       0.00409216, 0.03338516, 0.03467665, 0.00580142, 0.05057579,\n",
       "       0.03422585, 0.21061346, 0.06652772, 0.00205898, 0.08970598,\n",
       "       0.08727705, 0.01698256, 0.00831138, 0.5226742 , 0.1134591 ,\n",
       "       0.09404828, 0.03017809, 0.03704078, 0.02330376, 0.00950481,\n",
       "       0.0220478 , 0.01502187, 0.00377816, 0.00937807, 0.598801  ,\n",
       "       0.04126779, 0.00833494, 0.00800688, 0.23529938, 0.00759294,\n",
       "       0.00913388, 0.18551844, 0.05625536, 0.51842135, 0.00689256,\n",
       "       0.01653356, 0.01027147, 0.00123254, 0.10087305, 0.07017684,\n",
       "       0.0753822 , 0.05010712, 0.00558717, 0.06243068, 0.07778768,\n",
       "       0.01025665, 0.14009678, 0.01477394, 0.00252957, 0.04982268,\n",
       "       0.01005712, 0.00469081, 0.05696292, 0.00987967, 0.05126675,\n",
       "       0.01957684, 0.01556554, 0.02769724, 0.02986593, 0.08137891,\n",
       "       0.00466179, 0.03207267, 0.00703653, 0.1425461 , 0.01303422,\n",
       "       0.1977814 , 0.09845685, 0.07391025, 0.01637776, 0.16262087,\n",
       "       0.07712135, 0.02055592, 0.12231528, 0.06258582, 0.77356476,\n",
       "       0.01788532, 0.00728947, 0.01026319, 0.00275785, 0.01709967,\n",
       "       0.06601455, 0.00862633, 0.01968894, 0.04897092, 0.29846984,\n",
       "       0.04881861, 0.04716285, 0.12711105, 0.06177251, 0.07370181,\n",
       "       0.23881766, 0.00356214, 0.05013371, 0.01576631, 0.06343937,\n",
       "       0.03389927, 0.01187427, 0.40220812, 0.53534746, 0.0338688 ,\n",
       "       0.1954021 , 0.122711  , 0.03270497, 0.01453798, 0.6174759 ,\n",
       "       0.00499709, 0.08663141, 0.00971552, 0.01040219, 0.05361389,\n",
       "       0.05627063, 0.00391219, 0.0060846 , 0.24191082, 0.06499229,\n",
       "       0.04259098, 0.0143406 , 0.03630146, 0.092761  , 0.0365297 ,\n",
       "       0.01788342, 0.01510212, 0.02456388, 0.20776862, 0.06229809,\n",
       "       0.03620582, 0.06471445, 0.42492712, 0.00995831, 0.11408639,\n",
       "       0.03728675, 0.02637303, 0.0380234 , 0.02158139, 0.0112619 ,\n",
       "       0.02193115, 0.02378023, 0.07480209, 0.7223975 , 0.02775986,\n",
       "       0.00524388, 0.02058184, 0.00689869, 0.06485289, 0.02685563,\n",
       "       0.41339377, 0.05425769, 0.12848814, 0.03042554, 0.18087807,\n",
       "       0.28382853, 0.02383476, 0.1039549 , 0.01064217, 0.10955192,\n",
       "       0.00292743, 0.00611133, 0.27169266, 0.25160843, 0.00726722,\n",
       "       0.08556984, 0.01308963, 0.06944823, 0.00277762, 0.01063514,\n",
       "       0.00844909, 0.0416229 , 0.01108918, 0.04794409, 0.01253285,\n",
       "       0.22501327, 0.29074878, 0.0107016 , 0.05174265, 0.0137341 ,\n",
       "       0.00426726, 0.03753359], dtype=float32)"
      ]
     },
     "execution_count": 167,
     "metadata": {},
     "output_type": "execute_result"
    }
   ],
   "source": [
    "predictions"
   ]
  },
  {
   "cell_type": "code",
   "execution_count": null,
   "metadata": {
    "id": "Rcr-Xqf59png"
   },
   "outputs": [],
   "source": []
  }
 ],
 "metadata": {
  "colab": {
   "provenance": []
  },
  "kernelspec": {
   "display_name": "Python 3 (ipykernel)",
   "language": "python",
   "name": "python3"
  },
  "language_info": {
   "codemirror_mode": {
    "name": "ipython",
    "version": 3
   },
   "file_extension": ".py",
   "mimetype": "text/x-python",
   "name": "python",
   "nbconvert_exporter": "python",
   "pygments_lexer": "ipython3",
   "version": "3.9.13"
  }
 },
 "nbformat": 4,
 "nbformat_minor": 1
}
